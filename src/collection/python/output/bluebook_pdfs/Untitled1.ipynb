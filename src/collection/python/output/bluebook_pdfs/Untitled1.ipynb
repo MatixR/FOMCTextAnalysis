{
 "cells": [
  {
   "cell_type": "code",
   "execution_count": 17,
   "metadata": {},
   "outputs": [
    {
     "name": "stdout",
     "output_type": "stream",
     "text": [
      "['inflation', 'developments', 'carefully']\n",
      "None\n"
     ]
    }
   ],
   "source": [
    "row = ''' \n",
    "continued to increase\n",
    ", and some \n",
    "indicators of inflation expectations have \n",
    "risen further\n",
    ".  The Committee expects \n",
    "inflation to moderate \n",
    "later this year and next \n",
    "year, partly reflecting today™s policy action\n",
    ".  Still, uncertainty about the inflation outlook \n",
    "\n",
    "remains high. It will be necessary to \n",
    "continue to monitor inflation developments \n",
    "carefully. \n",
    "Assessment \n",
    "of Risk\n",
    " '''\n",
    "\n",
    "end = (re.sub(\"\\[.*\\]\",\"\",row.strip()))\n",
    "end = print((re.sub(\"\\[.*\\]\",\"\",row.strip())).rsplit(\".\",1)[0].split()[-3:])\n",
    "print(line)"
   ]
  },
  {
   "cell_type": "code",
   "execution_count": null,
   "metadata": {},
   "outputs": [],
   "source": []
  }
 ],
 "metadata": {
  "kernelspec": {
   "display_name": "Python 3",
   "language": "python",
   "name": "python3"
  },
  "language_info": {
   "codemirror_mode": {
    "name": "ipython",
    "version": 3
   },
   "file_extension": ".py",
   "mimetype": "text/x-python",
   "name": "python",
   "nbconvert_exporter": "python",
   "pygments_lexer": "ipython3",
   "version": "3.6.7"
  }
 },
 "nbformat": 4,
 "nbformat_minor": 2
}
