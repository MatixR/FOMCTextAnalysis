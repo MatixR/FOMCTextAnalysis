{
 "cells": [
  {
   "cell_type": "code",
   "execution_count": 1,
   "metadata": {},
   "outputs": [],
   "source": [
    "import pandas as pd"
   ]
  },
  {
   "cell_type": "code",
   "execution_count": 2,
   "metadata": {},
   "outputs": [],
   "source": [
    "df = pd.read_csv(\"interjections.csv\")"
   ]
  },
  {
   "cell_type": "code",
   "execution_count": 3,
   "metadata": {
    "collapsed": true
   },
   "outputs": [
    {
     "name": "stdout",
     "output_type": "stream",
     "text": [
      "        Unnamed: 0        Date    Speaker  \\\n",
      "0                0  1976-03-29      BURNS   \n",
      "1                1  1976-03-29  O’CONNELL   \n",
      "2                2  1976-03-29      BURNS   \n",
      "3                3  1976-03-29   COLDWELL   \n",
      "4                4  1976-03-29  O’CONNELL   \n",
      "5                5  1976-03-29     BROIDA   \n",
      "6                6  1976-03-29      BURNS   \n",
      "7                7  1976-03-29     BROIDA   \n",
      "8                8  1976-03-29  O’CONNELL   \n",
      "9                9  1976-03-29      BURNS   \n",
      "10              10  1976-03-29    HOLLAND   \n",
      "11              11  1976-03-29     BROIDA   \n",
      "12              12  1976-03-29    HOLLAND   \n",
      "13              13  1976-03-29     BROIDA   \n",
      "14              14  1976-03-29    HOLLAND   \n",
      "15              15  1976-03-29     BROIDA   \n",
      "16              16  1976-03-29    HOLLAND   \n",
      "17              17  1976-03-29     BROIDA   \n",
      "18              18  1976-03-29  O’CONNELL   \n",
      "19              19  1976-03-29    HOLLAND   \n",
      "20              20  1976-03-29     BROIDA   \n",
      "21              21  1976-03-29    HOLLAND   \n",
      "22              22  1976-03-29     BROIDA   \n",
      "23              23  1976-03-29     HOLMES   \n",
      "24              24  1976-03-29   COLDWELL   \n",
      "25              25  1976-03-29  O’CONNELL   \n",
      "26              26  1976-03-29   COLDWELL   \n",
      "27              27  1976-03-29  O’CONNELL   \n",
      "28              28  1976-03-29      BURNS   \n",
      "29              29  1976-03-29     BALLES   \n",
      "...            ...         ...        ...   \n",
      "128193      128193  2013-10-16      STEIN   \n",
      "128194      128194  2013-10-16     POWELL   \n",
      "128195      128195  2013-10-16      STEIN   \n",
      "128196      128196  2013-10-16     POWELL   \n",
      "128197      128197  2013-10-16      STEIN   \n",
      "128198      128198  2013-10-16    TARULLO   \n",
      "128199      128199  2013-10-16      STEIN   \n",
      "128200      128200  2013-10-16     POWELL   \n",
      "128201      128201  2013-10-16   BERNANKE   \n",
      "128202      128202  2013-10-16     POWELL   \n",
      "128203      128203  2013-10-16     POWELL   \n",
      "128204      128204  2013-10-16   BERNANKE   \n",
      "128205      128205  2013-10-16    TARULLO   \n",
      "128206      128206  2013-10-16   BERNANKE   \n",
      "128207      128207  2013-10-16    TARULLO   \n",
      "128208      128208  2013-10-16   BERNANKE   \n",
      "128209      128209  2013-10-16     LACKER   \n",
      "128210      128210  2013-10-16   BERNANKE   \n",
      "128211      128211  2013-10-16     FISHER   \n",
      "128212      128212  2013-10-16   BERNANKE   \n",
      "128213      128213  2013-10-16   WILLIAMS   \n",
      "128214      128214  2013-10-16   BERNANKE   \n",
      "128215      128215  2013-10-16  ROSENGREN   \n",
      "128216      128216  2013-10-16   BERNANKE   \n",
      "128217      128217  2013-10-16    BULLARD   \n",
      "128218      128218  2013-10-16   BERNANKE   \n",
      "128219      128219  2013-10-16     YELLEN   \n",
      "128220      128220  2013-10-16   BERNANKE   \n",
      "128221      128221  2013-10-16   PIANALTO   \n",
      "128222      128222  2013-10-16   BERNANKE   \n",
      "\n",
      "                                                  content  \n",
      "0         Gentlemen, we’re ready This will now be a me...  \n",
      "1         Yes, Mr Chairman  The Committee will recall ...  \n",
      "2         Thank you, Mr O’Connell  Are there any quest...  \n",
      "3         One question, Tom  Do you gather any sense o...  \n",
      "4         Mr Chairman, Governor, we’ve had no conversa...  \n",
      "5         I might add, Mr Chairman, that the original ...  \n",
      "6        [Unintelligible] to conform to the Freedom of...  \n",
      "7                                               Perhaps    \n",
      "8         That might well be the explanation of--may I...  \n",
      "9                 Thank you  Any questions or comments?    \n",
      "10        Might I ask the Secretary a question, Mr Cha...  \n",
      "11        We ascertained it not by consulting with the...  \n",
      "12        As to whether or not it was already a matter...  \n",
      "13             The information was in the public domain    \n",
      "14        That’s all I wanted to know  And in each cas...  \n",
      "15        They sat down with the memorandum and read i...  \n",
      "16        Thank you  And none of that [unintelligible]...  \n",
      "17        No, that’s not--let me put it this way  Ther...  \n",
      "18        I should say, too, that in those conversatio...  \n",
      "19        Well, did you leave [in the memorandum] any ...  \n",
      "20        This question gets rather subtle, Governor H...  \n",
      "21                                                  Yes    \n",
      "22        It was primarily on this issue that they exp...  \n",
      "23        There’s more to that question, Governor, of ...  \n",
      "24        The plaintiff has made no comment publicly o...  \n",
      "25        I know of none, I haven’t heard any, Governor    \n",
      "26                                     [Unintelligible]    \n",
      "27        He may have, but it hasn’t been brought to m...  \n",
      "28                                 Any other questions?    \n",
      "29        Tom, maybe I’ve missed something, but have y...  \n",
      "...                                                   ...  \n",
      "128193    First, very quickly, I also support 6 and 7,...  \n",
      "128194    Perhaps I can amplify what I meant by “loath...  \n",
      "128195                                   Yes  Please do    \n",
      "128196    I don’t disagree with a word of that  I’m ju...  \n",
      "128197    I understand why it’s optically bad, but I d...  \n",
      "128198                         Another martial metaphor    \n",
      "128199    So I just don’t see—I mean, maybe then actio...  \n",
      "128200    The institutional risk would be huge  The ec...  \n",
      "128201    I think we agree we are going to have to hav...  \n",
      "128202    Can I amplify one question?  I see 7 as goin...  \n",
      "128203                                             Okay    \n",
      "128204                                 Governor Tarullo    \n",
      "128205    Thank you, Mr Chairman  I would not take any...  \n",
      "128206    I think several people supported you on that...  \n",
      "128207    No, he didn’t  And Bill Dudley put it well w...  \n",
      "128208                                 President Lacker    \n",
      "128209    Yes  I wanted to follow up on Governor Stein...  \n",
      "128210                                 President Fisher    \n",
      "128211    Mr Chairman, I am comfortable with 6 and 7—o...  \n",
      "128212                    Thank you  President Williams    \n",
      "128213    Thank you, Mr Chairman  I also support actio...  \n",
      "128214                   Thank you  President Rosengren    \n",
      "128215    I support 1 through 7  I view 1 through 5 mo...  \n",
      "128216                     Thank you  President Bullard    \n",
      "128217    Thank you, Mr Chairman  On option 7, I do th...  \n",
      "128218                       Thank you  Governor Yellen    \n",
      "128219    I would just say, to be brief, I agree compl...  \n",
      "128220                    Thank you  President Pianalto    \n",
      "128221    Thank you, Mr Chairman  I, like others, supp...  \n",
      "128222    Well, I think we need to review the discussi...  \n",
      "\n",
      "[128223 rows x 4 columns]\n"
     ]
    }
   ],
   "source": [
    "print(df)"
   ]
  },
  {
   "cell_type": "code",
   "execution_count": 4,
   "metadata": {},
   "outputs": [],
   "source": [
    "df[\"interjection_count\"] = 1"
   ]
  },
  {
   "cell_type": "code",
   "execution_count": null,
   "metadata": {},
   "outputs": [],
   "source": []
  },
  {
   "cell_type": "code",
   "execution_count": null,
   "metadata": {},
   "outputs": [],
   "source": []
  },
  {
   "cell_type": "code",
   "execution_count": null,
   "metadata": {},
   "outputs": [],
   "source": []
  }
 ],
 "metadata": {
  "kernelspec": {
   "display_name": "Python 3",
   "language": "python",
   "name": "python3"
  },
  "language_info": {
   "codemirror_mode": {
    "name": "ipython",
    "version": 3
   },
   "file_extension": ".py",
   "mimetype": "text/x-python",
   "name": "python",
   "nbconvert_exporter": "python",
   "pygments_lexer": "ipython3",
   "version": "3.6.7"
  }
 },
 "nbformat": 4,
 "nbformat_minor": 2
}
