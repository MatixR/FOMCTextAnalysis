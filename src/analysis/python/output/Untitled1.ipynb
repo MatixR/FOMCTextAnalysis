{
 "cells": [
  {
   "cell_type": "code",
   "execution_count": 1,
   "metadata": {},
   "outputs": [],
   "source": [
    "import pandas as pd\n",
    "\n",
    "interjection_df = pd.read_csv(\"interjections.csv\")\n",
    "interjection_df = interjection_df[interjection_df.columns[1:]]\n",
    "#!ls ../../../../../../Replication-file-Robust-Text-Analysis/\n",
    "\n",
    "separation_df = pd.read_excel(\"../../../../../../Replication-file-Robust-Text-Analysis/Separation.xlsx\")\n",
    "\n",
    "meeting_df = pd.read_csv(\"../../../derivation/python/output/meeting_derived_file.csv\")\n",
    "\n"
   ]
  },
  {
   "cell_type": "code",
   "execution_count": 27,
   "metadata": {},
   "outputs": [
    {
     "name": "stdout",
     "output_type": "stream",
     "text": [
      "         date_string  FOMC1_start  FOMC1_end  FOMC2_start FOMC2_end       Date\n",
      "date_ind                                                                      \n",
      "199202        199202           71        151          310       367 1992-02-01\n",
      "199203        199203           78        146          147       215 1992-03-01\n",
      "199205        199205           37        163          136       270 1992-05-01\n",
      "199207        199207           48        156          367       535 1992-07-01\n",
      "199208        199208           42        133          134       223 1992-08-01\n",
      "199210        199210           81        229           86       305 1992-10-01\n",
      "199211        199211           29         88           89       280 1992-11-01\n",
      "199212        199212           19        129          130       206 1992-12-01\n"
     ]
    }
   ],
   "source": [
    "print(separation_df[separation_df.Date.dt.year==1992])"
   ]
  },
  {
   "cell_type": "code",
   "execution_count": 2,
   "metadata": {},
   "outputs": [
    {
     "name": "stdout",
     "output_type": "stream",
     "text": [
      "170\n",
      "148\n",
      "0      198708\n",
      "1      198709\n",
      "2      198711\n",
      "3      198712\n",
      "4      198802\n",
      "5      198803\n",
      "6      198806\n",
      "7      198808\n",
      "8      198809\n",
      "9      198811\n",
      "10     198812\n",
      "11     198902\n",
      "12     198903\n",
      "13     198905\n",
      "14     198907\n",
      "15     198908\n",
      "16     198910\n",
      "17     198911\n",
      "18     198912\n",
      "19     199002\n",
      "20     199003\n",
      "21     199005\n",
      "22     199007\n",
      "23     199008\n",
      "24     199010\n",
      "25     199011\n",
      "26     199012\n",
      "27     199102\n",
      "28     199103\n",
      "29     199105\n",
      "        ...  \n",
      "118    200206\n",
      "119    200208\n",
      "120    200209\n",
      "121    200211\n",
      "122    200212\n",
      "123    200301\n",
      "124    200303\n",
      "125    200305\n",
      "126    200306\n",
      "127    200308\n",
      "128    200309\n",
      "129    200310\n",
      "130    200312\n",
      "131    200401\n",
      "132    200403\n",
      "133    200405\n",
      "134    200406\n",
      "135    200408\n",
      "136    200409\n",
      "137    200411\n",
      "138    200412\n",
      "139    200502\n",
      "140    200503\n",
      "141    200505\n",
      "142    200506\n",
      "143    200508\n",
      "144    200509\n",
      "145    200511\n",
      "146    200512\n",
      "147    200601\n",
      "Name: date_string, Length: 148, dtype: object\n"
     ]
    }
   ],
   "source": [
    "separation_df = separation_df.rename(columns={separation_df.columns[0]:\"date_string\"})\n",
    "separation_df.date_string = separation_df.date_string.apply(str)\n",
    "\n",
    "separation_df['Date'] = pd.to_datetime(separation_df.date_string,format=\"%Y%m\")\n",
    "#print(separation_df)\n",
    "\n",
    "interjection_df['Date'] = pd.to_datetime(interjection_df.Date)\n",
    "interjection_df = interjection_df[(interjection_df.Date>pd.to_datetime(\"1987-07-31\"))&\n",
    "                                  (interjection_df.Date<pd.to_datetime(\"2006-02-01\"))]\n",
    "\n",
    "\n",
    "interjection_df['date_string'] = interjection_df.Date.apply(lambda x: x.strftime(\"%Y%m\")).apply(str)\n",
    "print(len(set(interjection_df.date_string)))\n",
    "print(len(set(separation_df.date_string)))\n",
    "\n",
    "print(separation_df.date_string)"
   ]
  },
  {
   "cell_type": "code",
   "execution_count": 3,
   "metadata": {},
   "outputs": [
    {
     "name": "stdout",
     "output_type": "stream",
     "text": [
      "149\n"
     ]
    },
    {
     "name": "stderr",
     "output_type": "stream",
     "text": [
      "/home/anand/Code/columbia/venv/lib/python3.6/site-packages/ipykernel_launcher.py:2: SettingWithCopyWarning: \n",
      "A value is trying to be set on a copy of a slice from a DataFrame.\n",
      "Try using .loc[row_indexer,col_indexer] = value instead\n",
      "\n",
      "See the caveats in the documentation: http://pandas.pydata.org/pandas-docs/stable/indexing.html#indexing-view-versus-copy\n",
      "  \n"
     ]
    }
   ],
   "source": [
    "cc_df = meeting_df[meeting_df.event_type==\"Conference Call\"]\n",
    "cc_df['Date'] = pd.to_datetime(cc_df['start_date'])\n",
    "\n",
    "interjection_df = interjection_df[~interjection_df['Date'].isin(cc_df['Date'])]\n",
    "\n",
    "print(len(set(interjection_df.date_string)))"
   ]
  },
  {
   "cell_type": "code",
   "execution_count": 6,
   "metadata": {},
   "outputs": [
    {
     "name": "stdout",
     "output_type": "stream",
     "text": [
      "148\n",
      "149\n",
      "{'199207', '199502', '199807'}\n"
     ]
    }
   ],
   "source": [
    "print(len(set(separation_df.date_string)))\n",
    "print(len(set(interjection_df.date_string)))\n",
    "\n",
    "\n",
    "separation_dates = sorted(list(set(separation_df.date_string)))\n",
    "\n",
    "interjection_dates = sorted(list(set(interjection_df.date_string)))\n",
    "\n",
    "missing = set(separation_dates)-set(interjection_dates)\n",
    "print(missing)\n",
    "pass\n",
    "'''\n",
    "for s_d,i_d in zip(separation_dates,interjection_dates):\n",
    "    print(\"Separation:\",s_d)\n",
    "    print(\"---\")\n",
    "    print(\"Interjection\",i_d)\n",
    "    print(\"===\"*20)\n",
    "'''\n",
    "\n",
    "separation_df['date_ind'] = separation_df.date_string.astype(int)\n",
    "separation_df = separation_df.set_index('date_ind')"
   ]
  },
  {
   "cell_type": "code",
   "execution_count": 23,
   "metadata": {},
   "outputs": [
    {
     "name": "stderr",
     "output_type": "stream",
     "text": [
      "/home/anand/Code/columbia/venv/lib/python3.6/site-packages/ipykernel_launcher.py:21: FutureWarning: Sorting because non-concatenation axis is not aligned. A future version\n",
      "of pandas will change to not sort by default.\n",
      "\n",
      "To accept the future behavior, pass 'sort=False'.\n",
      "\n",
      "To retain the current behavior and silence the warning, pass 'sort=True'.\n",
      "\n",
      "/home/anand/Code/columbia/venv/lib/python3.6/site-packages/ipykernel_launcher.py:7: FutureWarning: Sorting because non-concatenation axis is not aligned. A future version\n",
      "of pandas will change to not sort by default.\n",
      "\n",
      "To accept the future behavior, pass 'sort=False'.\n",
      "\n",
      "To retain the current behavior and silence the warning, pass 'sort=True'.\n",
      "\n",
      "  import sys\n"
     ]
    },
    {
     "ename": "KeyboardInterrupt",
     "evalue": "",
     "output_type": "error",
     "traceback": [
      "\u001b[0;31m---------------------------------------------------------------------------\u001b[0m",
      "\u001b[0;31mKeyboardInterrupt\u001b[0m                         Traceback (most recent call last)",
      "\u001b[0;32m<ipython-input-23-e96bc4b7cffd>\u001b[0m in \u001b[0;36m<module>\u001b[0;34m\u001b[0m\n\u001b[1;32m     19\u001b[0m     \u001b[0;31m#FOMC2 = meeting_date.iloc[separation['FOMC2_start'][date]:]\u001b[0m\u001b[0;34m\u001b[0m\u001b[0;34m\u001b[0m\u001b[0;34m\u001b[0m\u001b[0m\n\u001b[1;32m     20\u001b[0m \u001b[0;34m\u001b[0m\u001b[0m\n\u001b[0;32m---> 21\u001b[0;31m     \u001b[0mfinal_df\u001b[0m \u001b[0;34m=\u001b[0m \u001b[0mpd\u001b[0m\u001b[0;34m.\u001b[0m\u001b[0mconcat\u001b[0m\u001b[0;34m(\u001b[0m\u001b[0;34m[\u001b[0m\u001b[0mfinal_df\u001b[0m\u001b[0;34m,\u001b[0m \u001b[0mmeeting_date\u001b[0m\u001b[0;34m]\u001b[0m\u001b[0;34m,\u001b[0m \u001b[0mignore_index\u001b[0m \u001b[0;34m=\u001b[0m \u001b[0;32mTrue\u001b[0m\u001b[0;34m)\u001b[0m\u001b[0;34m\u001b[0m\u001b[0;34m\u001b[0m\u001b[0m\n\u001b[0m\u001b[1;32m     22\u001b[0m '''\n\u001b[1;32m     23\u001b[0m \u001b[0;32mfor\u001b[0m \u001b[0mdate_string\u001b[0m \u001b[0;32min\u001b[0m \u001b[0mseparation_df\u001b[0m\u001b[0;34m[\u001b[0m\u001b[0;34m'date_string'\u001b[0m\u001b[0;34m]\u001b[0m\u001b[0;34m:\u001b[0m\u001b[0;34m\u001b[0m\u001b[0;34m\u001b[0m\u001b[0m\n",
      "\u001b[0;32m~/Code/columbia/venv/lib/python3.6/site-packages/pandas/core/reshape/concat.py\u001b[0m in \u001b[0;36mconcat\u001b[0;34m(objs, axis, join, join_axes, ignore_index, keys, levels, names, verify_integrity, sort, copy)\u001b[0m\n\u001b[1;32m    227\u001b[0m                        \u001b[0mverify_integrity\u001b[0m\u001b[0;34m=\u001b[0m\u001b[0mverify_integrity\u001b[0m\u001b[0;34m,\u001b[0m\u001b[0;34m\u001b[0m\u001b[0;34m\u001b[0m\u001b[0m\n\u001b[1;32m    228\u001b[0m                        copy=copy, sort=sort)\n\u001b[0;32m--> 229\u001b[0;31m     \u001b[0;32mreturn\u001b[0m \u001b[0mop\u001b[0m\u001b[0;34m.\u001b[0m\u001b[0mget_result\u001b[0m\u001b[0;34m(\u001b[0m\u001b[0;34m)\u001b[0m\u001b[0;34m\u001b[0m\u001b[0;34m\u001b[0m\u001b[0m\n\u001b[0m\u001b[1;32m    230\u001b[0m \u001b[0;34m\u001b[0m\u001b[0m\n\u001b[1;32m    231\u001b[0m \u001b[0;34m\u001b[0m\u001b[0m\n",
      "\u001b[0;32m~/Code/columbia/venv/lib/python3.6/site-packages/pandas/core/reshape/concat.py\u001b[0m in \u001b[0;36mget_result\u001b[0;34m(self)\u001b[0m\n\u001b[1;32m    424\u001b[0m             new_data = concatenate_block_managers(\n\u001b[1;32m    425\u001b[0m                 \u001b[0mmgrs_indexers\u001b[0m\u001b[0;34m,\u001b[0m \u001b[0mself\u001b[0m\u001b[0;34m.\u001b[0m\u001b[0mnew_axes\u001b[0m\u001b[0;34m,\u001b[0m \u001b[0mconcat_axis\u001b[0m\u001b[0;34m=\u001b[0m\u001b[0mself\u001b[0m\u001b[0;34m.\u001b[0m\u001b[0maxis\u001b[0m\u001b[0;34m,\u001b[0m\u001b[0;34m\u001b[0m\u001b[0;34m\u001b[0m\u001b[0m\n\u001b[0;32m--> 426\u001b[0;31m                 copy=self.copy)\n\u001b[0m\u001b[1;32m    427\u001b[0m             \u001b[0;32mif\u001b[0m \u001b[0;32mnot\u001b[0m \u001b[0mself\u001b[0m\u001b[0;34m.\u001b[0m\u001b[0mcopy\u001b[0m\u001b[0;34m:\u001b[0m\u001b[0;34m\u001b[0m\u001b[0;34m\u001b[0m\u001b[0m\n\u001b[1;32m    428\u001b[0m                 \u001b[0mnew_data\u001b[0m\u001b[0;34m.\u001b[0m\u001b[0m_consolidate_inplace\u001b[0m\u001b[0;34m(\u001b[0m\u001b[0;34m)\u001b[0m\u001b[0;34m\u001b[0m\u001b[0;34m\u001b[0m\u001b[0m\n",
      "\u001b[0;32m~/Code/columbia/venv/lib/python3.6/site-packages/pandas/core/internals/managers.py\u001b[0m in \u001b[0;36mconcatenate_block_managers\u001b[0;34m(mgrs_indexers, axes, concat_axis, copy)\u001b[0m\n\u001b[1;32m   2056\u001b[0m         \u001b[0;32melif\u001b[0m \u001b[0mis_uniform_join_units\u001b[0m\u001b[0;34m(\u001b[0m\u001b[0mjoin_units\u001b[0m\u001b[0;34m)\u001b[0m\u001b[0;34m:\u001b[0m\u001b[0;34m\u001b[0m\u001b[0;34m\u001b[0m\u001b[0m\n\u001b[1;32m   2057\u001b[0m             b = join_units[0].block.concat_same_type(\n\u001b[0;32m-> 2058\u001b[0;31m                 [ju.block for ju in join_units], placement=placement)\n\u001b[0m\u001b[1;32m   2059\u001b[0m         \u001b[0;32melse\u001b[0m\u001b[0;34m:\u001b[0m\u001b[0;34m\u001b[0m\u001b[0;34m\u001b[0m\u001b[0m\n\u001b[1;32m   2060\u001b[0m             b = make_block(\n",
      "\u001b[0;32m~/Code/columbia/venv/lib/python3.6/site-packages/pandas/core/internals/blocks.py\u001b[0m in \u001b[0;36mconcat_same_type\u001b[0;34m(self, to_concat, placement)\u001b[0m\n\u001b[1;32m    326\u001b[0m         \"\"\"\n\u001b[1;32m    327\u001b[0m         values = self._concatenator([blk.values for blk in to_concat],\n\u001b[0;32m--> 328\u001b[0;31m                                     axis=self.ndim - 1)\n\u001b[0m\u001b[1;32m    329\u001b[0m         return self.make_block_same_class(\n\u001b[1;32m    330\u001b[0m             values, placement=placement or slice(0, len(values), 1))\n",
      "\u001b[0;31mKeyboardInterrupt\u001b[0m: "
     ]
    }
   ],
   "source": [
    "meeting_groups = interjection_df.groupby(\"Date\")\n",
    "final_df = pd.DataFrame(columns=interjection_df.columns)\n",
    "for date_ind in interjection_df['date_string'].astype(int):\n",
    "    meeting_date = interjection_df[interjection_df.date_string.astype(int)==date_ind].reset_index(drop=True)\n",
    "    meeting_date['FOMC_Section'] = 0\n",
    "    if date_ind not in list(separation_df.index):\n",
    "        final_df = pd.concat([final_df, meeting_date], ignore_index = True)\n",
    "        continue\n",
    "    \n",
    "    meeting_date.loc[separation_df['FOMC1_start'][date_ind]:\n",
    "                              separation_df['FOMC1_end'][date_ind],\"FOMC_Section\"] = 1\n",
    "    #print(FOMC1)\n",
    "    if separation_df['FOMC2_end'][date_ind] == 'end':\n",
    "        meeting_date.loc[separation_df['FOMC2_start'][date_ind]:\n",
    "                          ,\"FOMC_Section\"] = 2\n",
    "    else:\n",
    "        meeting_date.loc[separation_df['FOMC2_start'][date_ind]:\n",
    "                          separation_df['FOMC2_end'][date_ind],\"FOMC_Section\"]=2\n",
    "    #FOMC2 = meeting_date.iloc[separation['FOMC2_start'][date]:]\n",
    "\n",
    "    final_df = pd.concat([final_df, meeting_date], ignore_index = True)\n",
    "\n",
    "final_df"
   ]
  }
 ],
 "metadata": {
  "kernelspec": {
   "display_name": "Python 3",
   "language": "python",
   "name": "python3"
  },
  "language_info": {
   "codemirror_mode": {
    "name": "ipython",
    "version": 3
   },
   "file_extension": ".py",
   "mimetype": "text/x-python",
   "name": "python",
   "nbconvert_exporter": "python",
   "pygments_lexer": "ipython3",
   "version": "3.6.7"
  }
 },
 "nbformat": 4,
 "nbformat_minor": 2
}
