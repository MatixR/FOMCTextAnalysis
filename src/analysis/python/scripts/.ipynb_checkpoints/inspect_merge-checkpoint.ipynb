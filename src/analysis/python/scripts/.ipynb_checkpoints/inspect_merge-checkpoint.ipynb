{
 "cells": [
  {
   "cell_type": "code",
   "execution_count": 12,
   "metadata": {},
   "outputs": [
    {
     "name": "stdout",
     "output_type": "stream",
     "text": [
      "Voter df has length:157\n",
      "Alt df has length:168\n",
      "We have 13 messed up dates\n",
      "\n",
      "    month  year\n",
      "0       2  1988\n",
      "3       6  1988\n",
      "7      12  1988\n",
      "8       2  1989\n",
      "11      7  1989\n",
      "15     12  1989\n",
      "16      2  1990\n",
      "19      7  1990\n",
      "24      2  1991\n",
      "27      7  1991\n",
      "32      2  1992\n",
      "35      7  1992\n",
      "0       1  1988\n"
     ]
    }
   ],
   "source": [
    "import pandas as pd\n",
    "\n",
    "voter_df = pd.read_csv(\"../output/voting_members.csv\")\n",
    "alt_df = pd.read_csv(\"../output/alternative_outcomes_and_corpus.csv\")\n",
    "print(f'Voter df has length:{len(voter_df)}')\n",
    "print(f'Alt df has length:{len(alt_df)}')\n",
    "\n",
    "voter_df['date'] = pd.to_datetime(voter_df['Date'])\n",
    "alt_df['date'] = pd.to_datetime(alt_df['date'])\n",
    "\n",
    "voter_df['month'] = voter_df.date.dt.month\n",
    "voter_df['year'] = voter_df.date.dt.year\n",
    "\n",
    "alt_df['month'] = alt_df.date.dt.month\n",
    "alt_df['year'] = alt_df.date.dt.year\n",
    "\n",
    "distinct_dates = alt_df.append(voter_df).drop_duplicates(subset=[\"month\",\"year\"],keep=False)\n",
    "\n",
    "print(\"We have {} messed up dates\".format(len(distinct_dates)))\n",
    "print()\n",
    "print(distinct_dates)"
   ]
  }
 ],
 "metadata": {
  "kernelspec": {
   "display_name": "Python 3.6.9 64-bit",
   "language": "python",
   "name": "python36964bit90f15abbba7c41fd8c04899c4375aa10"
  },
  "language_info": {
   "codemirror_mode": {
    "name": "ipython",
    "version": 3
   },
   "file_extension": ".py",
   "mimetype": "text/x-python",
   "name": "python",
   "nbconvert_exporter": "python",
   "pygments_lexer": "ipython3",
   "version": "3.6.9"
  }
 },
 "nbformat": 4,
 "nbformat_minor": 2
}
