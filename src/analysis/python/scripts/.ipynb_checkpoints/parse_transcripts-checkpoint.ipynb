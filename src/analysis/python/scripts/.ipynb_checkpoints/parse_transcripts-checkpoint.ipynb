{
 "cells": [
  {
   "cell_type": "markdown",
   "metadata": {},
   "source": [
    "# Parsing Text and the LDA output"
   ]
  },
  {
   "cell_type": "markdown",
   "metadata": {},
   "source": [
    "## a.1) Opening pdfs and extracting their text"
   ]
  },
  {
   "cell_type": "markdown",
   "metadata": {},
   "source": [
    "Under the material for Lecture 3 I have added a folder called FOMC_pdf. This folder contains the transcripts of all the meetings that took place during the [Greenspan](https://en.wikipedia.org/wiki/Alan_Greenspan) era (August 11, 1987 to January 31st, 2006). \n",
    "\n",
    "We are some lines of code to parse those pdfs. "
   ]
  },
  {
   "cell_type": "code",
   "execution_count": 1,
   "metadata": {
    "ExecuteTime": {
     "end_time": "2019-02-08T13:49:43.314113Z",
     "start_time": "2019-02-08T13:49:43.310940Z"
    }
   },
   "outputs": [],
   "source": [
    "#load operating system module\n",
    "\n",
    "import os"
   ]
  },
  {
   "cell_type": "markdown",
   "metadata": {},
   "source": [
    "This module is used to conduct operating system like tasks (such as opening a file, or listing the contents of a directory)."
   ]
  },
  {
   "cell_type": "code",
   "execution_count": 2,
   "metadata": {
    "ExecuteTime": {
     "end_time": "2019-02-08T13:49:44.936776Z",
     "start_time": "2019-02-08T13:49:44.933416Z"
    }
   },
   "outputs": [],
   "source": [
    "#Define the base directory containing the FOMC statements\n",
    "\n",
    "base_directory = '../2Data/FOMC_pdf'"
   ]
  },
  {
   "cell_type": "code",
   "execution_count": 3,
   "metadata": {
    "ExecuteTime": {
     "end_time": "2019-02-08T13:49:45.877278Z",
     "start_time": "2019-02-08T13:49:45.867551Z"
    }
   },
   "outputs": [],
   "source": [
    "#Return a list containing the name of the files in the directory\n",
    "\n",
    "raw_doc        = os.listdir(base_directory)"
   ]
  },
  {
   "cell_type": "code",
   "execution_count": 4,
   "metadata": {
    "ExecuteTime": {
     "end_time": "2019-02-08T13:49:46.881266Z",
     "start_time": "2019-02-08T13:49:46.877497Z"
    }
   },
   "outputs": [],
   "source": [
    "#Sort the list in ascending order\n",
    "\n",
    "filelist       = sorted(raw_doc)"
   ]
  },
  {
   "cell_type": "code",
   "execution_count": 5,
   "metadata": {
    "ExecuteTime": {
     "end_time": "2019-02-08T13:49:48.026400Z",
     "start_time": "2019-02-08T13:49:48.013318Z"
    }
   },
   "outputs": [
    {
     "data": {
      "text/plain": [
       "['FOMC19870818meeting.pdf',\n",
       " 'FOMC19870922meeting.pdf',\n",
       " 'FOMC19871103meeting.pdf',\n",
       " 'FOMC19871216meeting.pdf',\n",
       " 'FOMC19880210meeting.pdf',\n",
       " 'FOMC19880329meeting.pdf',\n",
       " 'FOMC19880517meeting.pdf',\n",
       " 'FOMC19880630meeting.pdf',\n",
       " 'FOMC19880816meeting.pdf',\n",
       " 'FOMC19880920meeting.pdf',\n",
       " 'FOMC19881101meeting.pdf',\n",
       " 'FOMC19881214meeting.pdf',\n",
       " 'FOMC19890208meeting.pdf',\n",
       " 'FOMC19890328meeting.pdf',\n",
       " 'FOMC19890516meeting.pdf',\n",
       " 'FOMC19890706meeting.pdf',\n",
       " 'FOMC19890822meeting.pdf',\n",
       " 'FOMC19891003meeting.pdf',\n",
       " 'FOMC19891114meeting.pdf',\n",
       " 'FOMC19891219meeting.pdf',\n",
       " 'FOMC19900207meeting.pdf',\n",
       " 'FOMC19900327meeting.pdf',\n",
       " 'FOMC19900515meeting.pdf',\n",
       " 'FOMC19900703meeting.pdf',\n",
       " 'FOMC19900821meeting.pdf',\n",
       " 'FOMC19901002meeting.pdf',\n",
       " 'FOMC19901113meeting.pdf',\n",
       " 'FOMC19901218meeting.pdf',\n",
       " 'FOMC19910206meeting.pdf',\n",
       " 'FOMC19910326meeting.pdf',\n",
       " 'FOMC19910514meeting.pdf',\n",
       " 'FOMC19910703meeting.pdf',\n",
       " 'FOMC19910820meeting.pdf',\n",
       " 'FOMC19911001meeting.pdf',\n",
       " 'FOMC19911105meeting.pdf',\n",
       " 'FOMC19911217meeting.pdf',\n",
       " 'FOMC19920205meeting.pdf',\n",
       " 'FOMC19920331meeting.pdf',\n",
       " 'FOMC19920519meeting.pdf',\n",
       " 'FOMC19920701meeting.pdf',\n",
       " 'FOMC19920818meeting.pdf',\n",
       " 'FOMC19921006meeting.pdf',\n",
       " 'FOMC19921117meeting.pdf',\n",
       " 'FOMC19921222meeting.pdf',\n",
       " 'FOMC19930203meeting.pdf',\n",
       " 'FOMC19930323meeting.pdf',\n",
       " 'FOMC19930518meeting.pdf',\n",
       " 'FOMC19930707meeting.pdf',\n",
       " 'FOMC19930817meeting.pdf',\n",
       " 'FOMC19930921meeting.pdf',\n",
       " 'FOMC19931116meeting.pdf',\n",
       " 'FOMC19931221meeting.pdf',\n",
       " 'FOMC19940204meeting.pdf',\n",
       " 'FOMC19940322meeting.pdf',\n",
       " 'FOMC19940517meeting.pdf',\n",
       " 'FOMC19940706meeting.pdf',\n",
       " 'FOMC19940816meeting.pdf',\n",
       " 'FOMC19940927meeting.pdf',\n",
       " 'FOMC19941115meeting.pdf',\n",
       " 'FOMC19941220meeting.pdf',\n",
       " 'FOMC19950201meeting.pdf',\n",
       " 'FOMC19950328meeting.pdf',\n",
       " 'FOMC19950523meeting.pdf',\n",
       " 'FOMC19950706meeting.pdf',\n",
       " 'FOMC19950822meeting.pdf',\n",
       " 'FOMC19950926meeting.pdf',\n",
       " 'FOMC19951115meeting.pdf',\n",
       " 'FOMC19951219meeting.pdf',\n",
       " 'FOMC19960131meeting.pdf',\n",
       " 'FOMC19960326meeting.pdf',\n",
       " 'FOMC19960521meeting.pdf',\n",
       " 'FOMC19960703meeting.pdf',\n",
       " 'FOMC19960820meeting.pdf',\n",
       " 'FOMC19960924meeting.pdf',\n",
       " 'FOMC19961113meeting.pdf',\n",
       " 'FOMC19961217meeting.pdf',\n",
       " 'FOMC19970205meeting.pdf',\n",
       " 'FOMC19970325meeting.pdf',\n",
       " 'FOMC19970520meeting.pdf',\n",
       " 'FOMC19970702meeting.pdf',\n",
       " 'FOMC19970819meeting.pdf',\n",
       " 'FOMC19970930meeting.pdf',\n",
       " 'FOMC19971112meeting.pdf',\n",
       " 'FOMC19971216meeting.pdf',\n",
       " 'FOMC19980204meeting.pdf',\n",
       " 'FOMC19980331meeting.pdf',\n",
       " 'FOMC19980519meeting.pdf',\n",
       " 'FOMC19980701meeting.pdf',\n",
       " 'FOMC19980818meeting.pdf',\n",
       " 'FOMC19980929meeting.pdf',\n",
       " 'FOMC19981117meeting.pdf',\n",
       " 'FOMC19981222meeting.pdf',\n",
       " 'FOMC19990203meeting.pdf',\n",
       " 'FOMC19990330meeting.pdf',\n",
       " 'FOMC19990518meeting.pdf',\n",
       " 'FOMC19990630meeting.pdf',\n",
       " 'FOMC19990824meeting.pdf',\n",
       " 'FOMC19991005meeting.pdf',\n",
       " 'FOMC19991116meeting.pdf',\n",
       " 'FOMC19991221meeting.pdf',\n",
       " 'FOMC20000202meeting.pdf',\n",
       " 'FOMC20000321meeting.pdf',\n",
       " 'FOMC20000516meeting.pdf',\n",
       " 'FOMC20000628meeting.pdf',\n",
       " 'FOMC20000822meeting.pdf',\n",
       " 'FOMC20001003meeting.pdf',\n",
       " 'FOMC20001115meeting.pdf',\n",
       " 'FOMC20001219meeting.pdf',\n",
       " 'FOMC20010131meeting.pdf',\n",
       " 'FOMC20010320meeting.pdf',\n",
       " 'FOMC20010515meeting.pdf',\n",
       " 'FOMC20010627meeting.pdf',\n",
       " 'FOMC20010821meeting.pdf',\n",
       " 'FOMC20011002meeting.pdf',\n",
       " 'FOMC20011106meeting.pdf',\n",
       " 'FOMC20011211meeting.pdf',\n",
       " 'FOMC20020130meeting.pdf',\n",
       " 'FOMC20020319meeting.pdf',\n",
       " 'FOMC20020507meeting.pdf',\n",
       " 'FOMC20020626meeting.pdf',\n",
       " 'FOMC20020813meeting.pdf',\n",
       " 'FOMC20020924meeting.pdf',\n",
       " 'FOMC20021106meeting.pdf',\n",
       " 'FOMC20021210meeting.pdf',\n",
       " 'FOMC20030129meeting.pdf',\n",
       " 'FOMC20030318meeting.pdf',\n",
       " 'FOMC20030506meeting.pdf',\n",
       " 'FOMC20030625meeting.pdf',\n",
       " 'FOMC20030812meeting.pdf',\n",
       " 'FOMC20030915meeting.pdf',\n",
       " 'FOMC20030916meeting.pdf',\n",
       " 'FOMC20031028meeting.pdf',\n",
       " 'FOMC20031209meeting.pdf',\n",
       " 'FOMC20040128meeting.pdf',\n",
       " 'FOMC20040316meeting.pdf',\n",
       " 'FOMC20040504meeting.pdf',\n",
       " 'FOMC20040630meeting.pdf',\n",
       " 'FOMC20040810meeting.pdf',\n",
       " 'FOMC20040921meeting.pdf',\n",
       " 'FOMC20041110meeting.pdf',\n",
       " 'FOMC20041214meeting.pdf',\n",
       " 'FOMC20050202meeting.pdf',\n",
       " 'FOMC20050322meeting.pdf',\n",
       " 'FOMC20050503meeting.pdf',\n",
       " 'FOMC20050630meeting.pdf',\n",
       " 'FOMC20050809meeting.pdf',\n",
       " 'FOMC20050920meeting.pdf',\n",
       " 'FOMC20051101meeting.pdf',\n",
       " 'FOMC20051213meeting.pdf',\n",
       " 'FOMC20060131meeting.pdf']"
      ]
     },
     "execution_count": 5,
     "metadata": {},
     "output_type": "execute_result"
    }
   ],
   "source": [
    "filelist"
   ]
  },
  {
   "cell_type": "markdown",
   "metadata": {},
   "source": [
    "To parse the text in the pdfs I will use the PyPDF2 module (but there are other ways to do it. See for example the Tika module). \n",
    "\n",
    "Warning: Depending on your Python configuration, you might not be able to use PyPDF2 directly. I downloaded Python using the Anaconda distribution and I needed to type directly on the terminal\n",
    "\n",
    "conda -forge pypdf2\n",
    "\n",
    "After doing this, I was able to upload the PyPDF2 module"
   ]
  },
  {
   "cell_type": "code",
   "execution_count": 6,
   "metadata": {
    "ExecuteTime": {
     "end_time": "2019-02-08T13:49:54.339709Z",
     "start_time": "2019-02-08T13:49:54.325039Z"
    }
   },
   "outputs": [],
   "source": [
    "#Import module for reading pdfs\n",
    "\n",
    "import PyPDF2"
   ]
  },
  {
   "cell_type": "markdown",
   "metadata": {},
   "source": [
    "Let me give you an example of how the conversion from pdfs to string work. There are different ways of doing this (and in fact, there are some other modules out there to do it)."
   ]
  },
  {
   "cell_type": "markdown",
   "metadata": {},
   "source": [
    "The first thing is to open the file of interest and storing into some python object. We can do this by running"
   ]
  },
  {
   "cell_type": "code",
   "execution_count": 7,
   "metadata": {
    "ExecuteTime": {
     "end_time": "2019-02-08T13:49:56.520614Z",
     "start_time": "2019-02-08T13:49:56.516599Z"
    }
   },
   "outputs": [],
   "source": [
    "pdfFileObj_example = open(base_directory + '/' + 'FOMC19980929meeting.pdf', 'rb')"
   ]
  },
  {
   "cell_type": "markdown",
   "metadata": {},
   "source": [
    "The line above simply creates an object that PyPDF2 can then read:"
   ]
  },
  {
   "cell_type": "code",
   "execution_count": 8,
   "metadata": {
    "ExecuteTime": {
     "end_time": "2019-02-08T13:49:57.728704Z",
     "start_time": "2019-02-08T13:49:57.708454Z"
    }
   },
   "outputs": [
    {
     "name": "stderr",
     "output_type": "stream",
     "text": [
      "PdfReadWarning: Xref table not zero-indexed. ID numbers for objects will be corrected. [pdf.py:1736]\n"
     ]
    }
   ],
   "source": [
    "pdfread_example    = PyPDF2.PdfFileReader(pdfFileObj_example) "
   ]
  },
  {
   "cell_type": "markdown",
   "metadata": {},
   "source": [
    "You can type PyPDF2.PdfFileReader? to see what PyPDF2.PdfFileReader does. For the moment let's think that the function breaks the pdf into number of pages and separately stores each of the pages. "
   ]
  },
  {
   "cell_type": "markdown",
   "metadata": {},
   "source": [
    "We can easily retrieve the number of pages in 'FOMC19980929meeting.pdf'"
   ]
  },
  {
   "cell_type": "code",
   "execution_count": 9,
   "metadata": {
    "ExecuteTime": {
     "end_time": "2019-02-08T13:50:00.045037Z",
     "start_time": "2019-02-08T13:50:00.033279Z"
    }
   },
   "outputs": [
    {
     "data": {
      "text/plain": [
       "124"
      ]
     },
     "execution_count": 9,
     "metadata": {},
     "output_type": "execute_result"
    }
   ],
   "source": [
    "pdfread_example.numPages"
   ]
  },
  {
   "cell_type": "markdown",
   "metadata": {},
   "source": [
    "And I can also get a particular page of the document, say page 1. "
   ]
  },
  {
   "cell_type": "code",
   "execution_count": 10,
   "metadata": {
    "ExecuteTime": {
     "end_time": "2019-02-08T13:50:02.030334Z",
     "start_time": "2019-02-08T13:50:01.900386Z"
    }
   },
   "outputs": [
    {
     "data": {
      "text/plain": [
       "'Meeting of the Federal Open Market CommitteeSeptember 29, 1998A meeting of the Federal Open Market Committee was held in the offices of the Boardof Governors of the Federal Reserve System in Washington, D.C., on Tuesday, September 29,1998, at 9:00 a.m.PRESENT:Mr. Greenspan, ChairmanMr. McDonough, Vice ChairmanMr. HoenigMr. FergusonMr. GramlichMr. JordanMr. KelleyMr. MeyerMs. MinehanMr. PooleMs. RivlinMessrs. Boehne, McTeer, Moskow, and Stern, Alternate Members of theFederal Open Market CommitteeMessrs. Broaddus, Guynn, and Parry, Presidents of the Federal ReserveBanks of Richmond, Atlanta, and San Francisco respectivelyMr. Kohn, Secretary and EconomistMr. Bernard, Deputy SecretaryMs. Fox, Assistant SecretaryMr. Gillum, Assistant SecretaryMr. Mattingly, General CounselMr. Baxter, Deputy General CounselMr. Truman, EconomistMessrs. Cecchetti, Dewald, Hakkio, Lindsey, Simpson, Sniderman, andStockton, Associate EconomistsMr. Fisher, Manager, System Open Market Account'"
      ]
     },
     "execution_count": 10,
     "metadata": {},
     "output_type": "execute_result"
    }
   ],
   "source": [
    "pdfread_example.getPage(0).extractText()"
   ]
  },
  {
   "cell_type": "markdown",
   "metadata": {},
   "source": [
    "Finally, we would like to put all these pages together in a list. Doing so for two pages is quite simple. We start by creating a list"
   ]
  },
  {
   "cell_type": "code",
   "execution_count": 11,
   "metadata": {
    "ExecuteTime": {
     "end_time": "2019-02-08T13:50:03.863691Z",
     "start_time": "2019-02-08T13:50:03.860271Z"
    }
   },
   "outputs": [],
   "source": [
    "page_list_example = []"
   ]
  },
  {
   "cell_type": "markdown",
   "metadata": {},
   "source": [
    "We can \"append\" the first page to this empty list by doing"
   ]
  },
  {
   "cell_type": "code",
   "execution_count": 12,
   "metadata": {
    "ExecuteTime": {
     "end_time": "2019-02-08T13:50:05.065459Z",
     "start_time": "2019-02-08T13:50:05.043711Z"
    }
   },
   "outputs": [],
   "source": [
    "page_list_example.append(''.join(pdfread_example.getPage(0).extractText().split('\\n')))"
   ]
  },
  {
   "cell_type": "code",
   "execution_count": 13,
   "metadata": {
    "ExecuteTime": {
     "end_time": "2019-02-08T13:50:05.768953Z",
     "start_time": "2019-02-08T13:50:05.765020Z"
    }
   },
   "outputs": [
    {
     "data": {
      "text/plain": [
       "['Meeting of the Federal Open Market CommitteeSeptember 29, 1998A meeting of the Federal Open Market Committee was held in the offices of the Boardof Governors of the Federal Reserve System in Washington, D.C., on Tuesday, September 29,1998, at 9:00 a.m.PRESENT:Mr. Greenspan, ChairmanMr. McDonough, Vice ChairmanMr. HoenigMr. FergusonMr. GramlichMr. JordanMr. KelleyMr. MeyerMs. MinehanMr. PooleMs. RivlinMessrs. Boehne, McTeer, Moskow, and Stern, Alternate Members of theFederal Open Market CommitteeMessrs. Broaddus, Guynn, and Parry, Presidents of the Federal ReserveBanks of Richmond, Atlanta, and San Francisco respectivelyMr. Kohn, Secretary and EconomistMr. Bernard, Deputy SecretaryMs. Fox, Assistant SecretaryMr. Gillum, Assistant SecretaryMr. Mattingly, General CounselMr. Baxter, Deputy General CounselMr. Truman, EconomistMessrs. Cecchetti, Dewald, Hakkio, Lindsey, Simpson, Sniderman, andStockton, Associate EconomistsMr. Fisher, Manager, System Open Market Account']"
      ]
     },
     "execution_count": 13,
     "metadata": {},
     "output_type": "execute_result"
    }
   ],
   "source": [
    "page_list_example"
   ]
  },
  {
   "cell_type": "markdown",
   "metadata": {},
   "source": [
    "And then we can \"append\" page 2"
   ]
  },
  {
   "cell_type": "code",
   "execution_count": 14,
   "metadata": {
    "ExecuteTime": {
     "end_time": "2019-02-08T13:50:07.319589Z",
     "start_time": "2019-02-08T13:50:07.285826Z"
    }
   },
   "outputs": [],
   "source": [
    "page_list_example.append(''.join(pdfread_example.getPage(1).extractText().split('\\n')))"
   ]
  },
  {
   "cell_type": "code",
   "execution_count": 15,
   "metadata": {
    "ExecuteTime": {
     "end_time": "2019-02-08T13:50:08.055973Z",
     "start_time": "2019-02-08T13:50:08.051432Z"
    }
   },
   "outputs": [
    {
     "data": {
      "text/plain": [
       "['Meeting of the Federal Open Market CommitteeSeptember 29, 1998A meeting of the Federal Open Market Committee was held in the offices of the Boardof Governors of the Federal Reserve System in Washington, D.C., on Tuesday, September 29,1998, at 9:00 a.m.PRESENT:Mr. Greenspan, ChairmanMr. McDonough, Vice ChairmanMr. HoenigMr. FergusonMr. GramlichMr. JordanMr. KelleyMr. MeyerMs. MinehanMr. PooleMs. RivlinMessrs. Boehne, McTeer, Moskow, and Stern, Alternate Members of theFederal Open Market CommitteeMessrs. Broaddus, Guynn, and Parry, Presidents of the Federal ReserveBanks of Richmond, Atlanta, and San Francisco respectivelyMr. Kohn, Secretary and EconomistMr. Bernard, Deputy SecretaryMs. Fox, Assistant SecretaryMr. Gillum, Assistant SecretaryMr. Mattingly, General CounselMr. Baxter, Deputy General CounselMr. Truman, EconomistMessrs. Cecchetti, Dewald, Hakkio, Lindsey, Simpson, Sniderman, andStockton, Associate EconomistsMr. Fisher, Manager, System Open Market Account',\n",
       " \"9/29/98Mr. Winn, Assistant to the Board, Office of Board Members, Board ofGovernors 1/Mr. Ettin, Deputy Director, Division of Research and Statistics, Board ofGovernorsMessrs. Madigan and Slifman, Associate Directors, Divisions ofMonetary Affairs and Research and Statistics respectively, Boardof GovernorsMessrs. Alexander, Hooper, and Ms. Johnson, Associate Directors,Division of International Finance, Board of GovernorsMr. Reinhart, Deputy Associate Director, Division of Monetary Affairs,Board of GovernorsMr. Struckmeyer, Assistant Director, Division of Research and Statistics,Board of GovernorsMs. Low, Open Market Secretariat Assistant, Division of MonetaryAffairs, Board of GovernorsMessrs. Spillenkothen and Parkinson, 2/ Director, Division ofSupervision and Regulation, and Associate Director, Division ofResearch and Statistics respectively, Board of GovernorsMr. Connolly, First Vice President, Federal Reserve Bank of BostonMessrs. Eisenbeis, Goodfriend, Hunter, Kos, Lang, and Rolnick, SeniorVice Presidents, Federal Reserve Banks of Atlanta, Richmond,Chicago, New York, Philadelphia, and Minneapolis respectivelyMessrs. Judd and Rosengren, Vice Presidents, Federal Reserve Banks ofSan Francisco and Boston respectivelyMs. Yucel, Research Officer, Federal Reserve Bank of Dallas1/ Attended portion of the meeting relating to the Committee's disclosure policies.2/ Attended portion of the meeting relating to developments stemming from the financialdifficulties of a large hedge fund.\"]"
      ]
     },
     "execution_count": 15,
     "metadata": {},
     "output_type": "execute_result"
    }
   ],
   "source": [
    "page_list_example"
   ]
  },
  {
   "cell_type": "markdown",
   "metadata": {},
   "source": [
    "The list has now two entries"
   ]
  },
  {
   "cell_type": "code",
   "execution_count": 16,
   "metadata": {
    "ExecuteTime": {
     "end_time": "2019-02-08T13:50:09.936471Z",
     "start_time": "2019-02-08T13:50:09.932406Z"
    }
   },
   "outputs": [
    {
     "data": {
      "text/plain": [
       "2"
      ]
     },
     "execution_count": 16,
     "metadata": {},
     "output_type": "execute_result"
    }
   ],
   "source": [
    "len(page_list_example)"
   ]
  },
  {
   "cell_type": "markdown",
   "metadata": {},
   "source": [
    "but we would like to consolidate them into a single page and assign them to a list called document_example "
   ]
  },
  {
   "cell_type": "code",
   "execution_count": 17,
   "metadata": {
    "ExecuteTime": {
     "end_time": "2019-02-08T13:50:11.502040Z",
     "start_time": "2019-02-08T13:50:11.499109Z"
    }
   },
   "outputs": [],
   "source": [
    "page_concat_example = ''.join(page_list_example)"
   ]
  },
  {
   "cell_type": "code",
   "execution_count": 18,
   "metadata": {
    "ExecuteTime": {
     "end_time": "2019-02-08T13:50:12.583583Z",
     "start_time": "2019-02-08T13:50:12.580413Z"
    }
   },
   "outputs": [],
   "source": [
    "document_example    = []"
   ]
  },
  {
   "cell_type": "code",
   "execution_count": 19,
   "metadata": {
    "ExecuteTime": {
     "end_time": "2019-02-08T13:50:13.407811Z",
     "start_time": "2019-02-08T13:50:13.404516Z"
    }
   },
   "outputs": [],
   "source": [
    "document_example.append(page_concat_example)"
   ]
  },
  {
   "cell_type": "code",
   "execution_count": 20,
   "metadata": {
    "ExecuteTime": {
     "end_time": "2019-02-08T13:50:15.136844Z",
     "start_time": "2019-02-08T13:50:15.132169Z"
    }
   },
   "outputs": [
    {
     "data": {
      "text/plain": [
       "1"
      ]
     },
     "execution_count": 20,
     "metadata": {},
     "output_type": "execute_result"
    }
   ],
   "source": [
    "len(document_example)"
   ]
  },
  {
   "cell_type": "markdown",
   "metadata": {},
   "source": [
    "Now we can do this in a loop. For each pdf, we will write a loop to put together all the pages. And then will put together all the meetings in a page. "
   ]
  },
  {
   "cell_type": "code",
   "execution_count": 21,
   "metadata": {
    "ExecuteTime": {
     "end_time": "2019-02-08T13:58:16.622505Z",
     "start_time": "2019-02-08T13:50:21.476056Z"
    }
   },
   "outputs": [],
   "source": [
    "#Create loop to extract the text from the pdfs \n",
    "#(we could do this using the tika package, but it does not work on Chrome!)\n",
    "\n",
    "document       =  []           #Initialize doc\n",
    "\n",
    "for filename in filelist:      #Create loop for each of the names on the file\n",
    "    \n",
    "    pdfFileObj = open(base_directory + '/' + filename, 'rb')    \n",
    "                               #Open file\n",
    "     \n",
    "    pdfread    = PyPDF2.PdfFileReader(pdfFileObj) \n",
    "                               #Get the content of the pdf (text,pages, etc)\n",
    "    \n",
    "    page_list  = []\n",
    "    \n",
    "    for page in range(pdfread.numPages):\n",
    "        \n",
    "        pageObj= pdfread.getPage(page)\n",
    "        \n",
    "        page_list.append(''.join(pageObj.extractText().split('\\n')))\n",
    "        \n",
    "    page_concat= ''.join(page_list)\n",
    "    \n",
    "    document.append(page_concat)\n"
   ]
  },
  {
   "cell_type": "code",
   "execution_count": 22,
   "metadata": {
    "ExecuteTime": {
     "end_time": "2019-02-08T13:58:17.198852Z",
     "start_time": "2019-02-08T13:58:17.194479Z"
    }
   },
   "outputs": [
    {
     "data": {
      "text/plain": [
       "150"
      ]
     },
     "execution_count": 22,
     "metadata": {},
     "output_type": "execute_result"
    }
   ],
   "source": [
    "len(document)"
   ]
  },
  {
   "cell_type": "markdown",
   "metadata": {},
   "source": [
    "You can check that document is a list and each element of the list contains one of the meetings in the Greenspan period."
   ]
  },
  {
   "cell_type": "markdown",
   "metadata": {},
   "source": [
    "## a.2) Organizing the information in a data frame"
   ]
  },
  {
   "cell_type": "code",
   "execution_count": 23,
   "metadata": {
    "ExecuteTime": {
     "end_time": "2019-02-08T13:58:58.914961Z",
     "start_time": "2019-02-08T13:58:58.379323Z"
    }
   },
   "outputs": [],
   "source": [
    "import pandas as pd"
   ]
  },
  {
   "cell_type": "code",
   "execution_count": 24,
   "metadata": {
    "ExecuteTime": {
     "end_time": "2019-02-08T13:58:59.675424Z",
     "start_time": "2019-02-08T13:58:59.673024Z"
    }
   },
   "outputs": [],
   "source": [
    "#load re to split the content of the pdfs by the occurrence of a pattern\n",
    "\n",
    "import re"
   ]
  },
  {
   "cell_type": "code",
   "execution_count": 25,
   "metadata": {
    "ExecuteTime": {
     "end_time": "2019-02-08T13:59:00.638572Z",
     "start_time": "2019-02-08T13:59:00.632104Z"
    }
   },
   "outputs": [],
   "source": [
    "#Creates a data frame containing the dates of the FOMC meetings\n",
    "\n",
    "date        = pd.Series(data=filelist).apply(lambda x: x[4:12])"
   ]
  },
  {
   "cell_type": "code",
   "execution_count": 61,
   "metadata": {
    "ExecuteTime": {
     "end_time": "2019-02-08T14:08:22.388430Z",
     "start_time": "2019-02-08T14:08:22.380893Z"
    }
   },
   "outputs": [],
   "source": [
    "#Initializes a data frame with columns Date (of the FOMC meeting), Speaker, Content (of the interjection)\n",
    "\n",
    "parsed_text = pd.DataFrame(columns = ['Date','Speaker','content'])"
   ]
  },
  {
   "cell_type": "code",
   "execution_count": 62,
   "metadata": {
    "ExecuteTime": {
     "end_time": "2019-02-08T14:08:55.773754Z",
     "start_time": "2019-02-08T14:08:23.595653Z"
    },
    "code_folding": []
   },
   "outputs": [],
   "source": [
    "for i in range(len(document)):\n",
    "\n",
    "    interjections    = re.split('MR. |MS. |CHAIRMAN |VICE CHAIRMAN ', document[i]) \n",
    "                        #Split the doc by interjections\n",
    "    \n",
    "    temp_df          = pd.DataFrame(columns=['Date','Speaker','content'],index=range(len(interjections)))          \n",
    "                        #Temporary data frame\n",
    "          \n",
    "    for j in range(len(interjections)):\n",
    "                                    \n",
    "    \n",
    "        interjection           = interjections[j].replace('\\n',' ') \n",
    "                                 #Replace page break (\\n) with space\n",
    "        \n",
    "        temp_df['Date'].loc[j]    = date[i]\n",
    "           \n",
    "        temp_df['Speaker'].loc[j] = interjection.split('.')[0]\n",
    "        \n",
    "        temp_df['content'].loc[j] = ''.join(interjection.split('.')[1:])\n",
    "        \n",
    "    parsed_text = pd.concat([parsed_text,temp_df],ignore_index=True)                     \n",
    "            "
   ]
  },
  {
   "cell_type": "code",
   "execution_count": 63,
   "metadata": {
    "ExecuteTime": {
     "end_time": "2019-02-08T14:08:57.199060Z",
     "start_time": "2019-02-08T14:08:57.174870Z"
    }
   },
   "outputs": [
    {
     "data": {
      "text/html": [
       "<div>\n",
       "<style scoped>\n",
       "    .dataframe tbody tr th:only-of-type {\n",
       "        vertical-align: middle;\n",
       "    }\n",
       "\n",
       "    .dataframe tbody tr th {\n",
       "        vertical-align: top;\n",
       "    }\n",
       "\n",
       "    .dataframe thead th {\n",
       "        text-align: right;\n",
       "    }\n",
       "</style>\n",
       "<table border=\"1\" class=\"dataframe\">\n",
       "  <thead>\n",
       "    <tr style=\"text-align: right;\">\n",
       "      <th></th>\n",
       "      <th>Date</th>\n",
       "      <th>Speaker</th>\n",
       "      <th>content</th>\n",
       "    </tr>\n",
       "  </thead>\n",
       "  <tbody>\n",
       "    <tr>\n",
       "      <th>0</th>\n",
       "      <td>19870818</td>\n",
       "      <td>Meeting of the Federal Open Market CommitteeAu...</td>\n",
       "      <td>C, on Tuesday, August 18, 1987, at 9:00 amPRE...</td>\n",
       "    </tr>\n",
       "    <tr>\n",
       "      <th>1</th>\n",
       "      <td>19870818</td>\n",
       "      <td>JOHNSON</td>\n",
       "      <td>In the absence of the Vice Chairman of theFOM...</td>\n",
       "    </tr>\n",
       "    <tr>\n",
       "      <th>2</th>\n",
       "      <td>19870818</td>\n",
       "      <td>SEGER</td>\n",
       "      <td>And I'd like to second</td>\n",
       "    </tr>\n",
       "    <tr>\n",
       "      <th>3</th>\n",
       "      <td>19870818</td>\n",
       "      <td>JOHNSON</td>\n",
       "      <td>Are there any objections? [Laughter] MrChairman</td>\n",
       "    </tr>\n",
       "    <tr>\n",
       "      <th>4</th>\n",
       "      <td>19870818</td>\n",
       "      <td>GREENSPAN</td>\n",
       "      <td>That was a longer pause than I expected[Laugh...</td>\n",
       "    </tr>\n",
       "    <tr>\n",
       "      <th>5</th>\n",
       "      <td>19870818</td>\n",
       "      <td>SEGER</td>\n",
       "      <td>I'll move that</td>\n",
       "    </tr>\n",
       "    <tr>\n",
       "      <th>6</th>\n",
       "      <td>19870818</td>\n",
       "      <td>GREENSPAN</td>\n",
       "      <td>If there are no objections, then theyare appr...</td>\n",
       "    </tr>\n",
       "    <tr>\n",
       "      <th>7</th>\n",
       "      <td>19870818</td>\n",
       "      <td>CROSS</td>\n",
       "      <td>[Statement--see Appendix]</td>\n",
       "    </tr>\n",
       "    <tr>\n",
       "      <th>8</th>\n",
       "      <td>19870818</td>\n",
       "      <td>GREENSPAN</td>\n",
       "      <td>Comments anyone?</td>\n",
       "    </tr>\n",
       "    <tr>\n",
       "      <th>9</th>\n",
       "      <td>19870818</td>\n",
       "      <td>JOHNSON</td>\n",
       "      <td>I have one, Mr Chairman I was looking thismor...</td>\n",
       "    </tr>\n",
       "    <tr>\n",
       "      <th>10</th>\n",
       "      <td>19870818</td>\n",
       "      <td>CROSS</td>\n",
       "      <td>It has been mentioned that oil prices havecle...</td>\n",
       "    </tr>\n",
       "    <tr>\n",
       "      <th>11</th>\n",
       "      <td>19870818</td>\n",
       "      <td>GREENSPAN</td>\n",
       "      <td>To what extent is the general apparentreducti...</td>\n",
       "    </tr>\n",
       "    <tr>\n",
       "      <th>12</th>\n",
       "      <td>19870818</td>\n",
       "      <td>CROSS</td>\n",
       "      <td>Really, we don't have enough evidence, other ...</td>\n",
       "    </tr>\n",
       "    <tr>\n",
       "      <th>13</th>\n",
       "      <td>19870818</td>\n",
       "      <td>GREENSPAN</td>\n",
       "      <td>What happened to the DM this morning?</td>\n",
       "    </tr>\n",
       "    <tr>\n",
       "      <th>14</th>\n",
       "      <td>19870818</td>\n",
       "      <td>CROSS</td>\n",
       "      <td>Well, the dollar fell in terms of both the DM...</td>\n",
       "    </tr>\n",
       "    <tr>\n",
       "      <th>15</th>\n",
       "      <td>19870818</td>\n",
       "      <td>PARRY</td>\n",
       "      <td>What about in relation to sterling?</td>\n",
       "    </tr>\n",
       "    <tr>\n",
       "      <th>16</th>\n",
       "      <td>19870818</td>\n",
       "      <td>CROSS</td>\n",
       "      <td>I don't have the sterling quote today Butster...</td>\n",
       "    </tr>\n",
       "    <tr>\n",
       "      <th>17</th>\n",
       "      <td>19870818</td>\n",
       "      <td>PARRY</td>\n",
       "      <td>That may indicate whether or not it is relate...</td>\n",
       "    </tr>\n",
       "    <tr>\n",
       "      <th>18</th>\n",
       "      <td>19870818</td>\n",
       "      <td>CROSS</td>\n",
       "      <td>Well, sterling sometimes acts like a petro-cu...</td>\n",
       "    </tr>\n",
       "    <tr>\n",
       "      <th>19</th>\n",
       "      <td>19870818</td>\n",
       "      <td>PARRY</td>\n",
       "      <td>That's not oil</td>\n",
       "    </tr>\n",
       "    <tr>\n",
       "      <th>20</th>\n",
       "      <td>19870818</td>\n",
       "      <td>CROSS</td>\n",
       "      <td>But it should not move that way if you follow...</td>\n",
       "    </tr>\n",
       "    <tr>\n",
       "      <th>21</th>\n",
       "      <td>19870818</td>\n",
       "      <td>PARRY</td>\n",
       "      <td>That's right</td>\n",
       "    </tr>\n",
       "    <tr>\n",
       "      <th>22</th>\n",
       "      <td>19870818</td>\n",
       "      <td>GREENSPAN</td>\n",
       "      <td>Anything else? May I have a motion toratify M...</td>\n",
       "    </tr>\n",
       "    <tr>\n",
       "      <th>23</th>\n",
       "      <td>19870818</td>\n",
       "      <td>CORRIGAN</td>\n",
       "      <td>So move</td>\n",
       "    </tr>\n",
       "    <tr>\n",
       "      <th>24</th>\n",
       "      <td>19870818</td>\n",
       "      <td>GREENSPAN</td>\n",
       "      <td>Without objection, they're approvedMr Sternli...</td>\n",
       "    </tr>\n",
       "    <tr>\n",
       "      <th>25</th>\n",
       "      <td>19870818</td>\n",
       "      <td>STERNLIGHT</td>\n",
       "      <td>Thank you, Mr Chairman [Statement--seeAppendix]</td>\n",
       "    </tr>\n",
       "    <tr>\n",
       "      <th>26</th>\n",
       "      <td>19870818</td>\n",
       "      <td>JOHNSON</td>\n",
       "      <td>Mr Chairman, I'd like to second thatrecommend...</td>\n",
       "    </tr>\n",
       "    <tr>\n",
       "      <th>27</th>\n",
       "      <td>19870818</td>\n",
       "      <td>GREENSPAN</td>\n",
       "      <td>Why don't we hold that until we getthrough th...</td>\n",
       "    </tr>\n",
       "    <tr>\n",
       "      <th>28</th>\n",
       "      <td>19870818</td>\n",
       "      <td>FORRESTAL</td>\n",
       "      <td>Peter, in light of the increase in Japanesein...</td>\n",
       "    </tr>\n",
       "    <tr>\n",
       "      <th>29</th>\n",
       "      <td>19870818</td>\n",
       "      <td>STERNLIGHT</td>\n",
       "      <td>At times, there certainly did seem to be anab...</td>\n",
       "    </tr>\n",
       "    <tr>\n",
       "      <th>...</th>\n",
       "      <td>...</td>\n",
       "      <td>...</td>\n",
       "      <td>...</td>\n",
       "    </tr>\n",
       "    <tr>\n",
       "      <th>45860</th>\n",
       "      <td>20060131</td>\n",
       "      <td>GREENSPAN</td>\n",
       "      <td>Governor Ferguson</td>\n",
       "    </tr>\n",
       "    <tr>\n",
       "      <th>45861</th>\n",
       "      <td>20060131</td>\n",
       "      <td>FERGUSON</td>\n",
       "      <td>Thank you, Mr Chairman  I support your recom...</td>\n",
       "    </tr>\n",
       "    <tr>\n",
       "      <th>45862</th>\n",
       "      <td>20060131</td>\n",
       "      <td>GREENSPAN</td>\n",
       "      <td>President Hoenig</td>\n",
       "    </tr>\n",
       "    <tr>\n",
       "      <th>45863</th>\n",
       "      <td>20060131</td>\n",
       "      <td>HOENIG</td>\n",
       "      <td>Yes, Mr Chairman, I agree with your proposal...</td>\n",
       "    </tr>\n",
       "    <tr>\n",
       "      <th>45864</th>\n",
       "      <td>20060131</td>\n",
       "      <td>GREENSPAN</td>\n",
       "      <td>President Stern</td>\n",
       "    </tr>\n",
       "    <tr>\n",
       "      <th>45865</th>\n",
       "      <td>20060131</td>\n",
       "      <td>STERN</td>\n",
       "      <td>Thank you, Mr Chairman  I find myself in agr...</td>\n",
       "    </tr>\n",
       "    <tr>\n",
       "      <th>45866</th>\n",
       "      <td>20060131</td>\n",
       "      <td>GREENSPAN</td>\n",
       "      <td>President Minehan</td>\n",
       "    </tr>\n",
       "    <tr>\n",
       "      <th>45867</th>\n",
       "      <td>20060131</td>\n",
       "      <td>MINEHAN</td>\n",
       "      <td>Thank you, Mr Chairman  I, too, am comfortab...</td>\n",
       "    </tr>\n",
       "    <tr>\n",
       "      <th>45868</th>\n",
       "      <td>20060131</td>\n",
       "      <td>REINHART</td>\n",
       "      <td>The reason for MondayŒTuesday was that you p...</td>\n",
       "    </tr>\n",
       "    <tr>\n",
       "      <th>45869</th>\n",
       "      <td>20060131</td>\n",
       "      <td>MINEHAN</td>\n",
       "      <td>Okay  Thank you</td>\n",
       "    </tr>\n",
       "    <tr>\n",
       "      <th>45870</th>\n",
       "      <td>20060131</td>\n",
       "      <td>GREENSPAN</td>\n",
       "      <td>President Pianalto</td>\n",
       "    </tr>\n",
       "    <tr>\n",
       "      <th>45871</th>\n",
       "      <td>20060131</td>\n",
       "      <td>PIANALTO</td>\n",
       "      <td>Thank you, Mr Chairman  I, too, support your...</td>\n",
       "    </tr>\n",
       "    <tr>\n",
       "      <th>45872</th>\n",
       "      <td>20060131</td>\n",
       "      <td>GREENSPAN</td>\n",
       "      <td>President Guynn</td>\n",
       "    </tr>\n",
       "    <tr>\n",
       "      <th>45873</th>\n",
       "      <td>20060131</td>\n",
       "      <td>GUYNN</td>\n",
       "      <td>Mr Chairman, I support your recommendation  ...</td>\n",
       "    </tr>\n",
       "    <tr>\n",
       "      <th>45874</th>\n",
       "      <td>20060131</td>\n",
       "      <td>GREENSPAN</td>\n",
       "      <td>President Yellen</td>\n",
       "    </tr>\n",
       "    <tr>\n",
       "      <th>45875</th>\n",
       "      <td>20060131</td>\n",
       "      <td>YELLEN</td>\n",
       "      <td>Thank you, Mr Chairman  And I also support f...</td>\n",
       "    </tr>\n",
       "    <tr>\n",
       "      <th>45876</th>\n",
       "      <td>20060131</td>\n",
       "      <td>GREENSPAN</td>\n",
       "      <td>Governor Bies</td>\n",
       "    </tr>\n",
       "    <tr>\n",
       "      <th>45877</th>\n",
       "      <td>20060131</td>\n",
       "      <td>BIES</td>\n",
       "      <td>Thank you, Mr Chairman  I support both the 2...</td>\n",
       "    </tr>\n",
       "    <tr>\n",
       "      <th>45878</th>\n",
       "      <td>20060131</td>\n",
       "      <td>GREENSPAN</td>\n",
       "      <td>President Moskow</td>\n",
       "    </tr>\n",
       "    <tr>\n",
       "      <th>45879</th>\n",
       "      <td>20060131</td>\n",
       "      <td>MOSKOW</td>\n",
       "      <td>Mr Chairman, during your tenure the FOMC has...</td>\n",
       "    </tr>\n",
       "    <tr>\n",
       "      <th>45880</th>\n",
       "      <td>20060131</td>\n",
       "      <td>GREENSPAN</td>\n",
       "      <td>Thank you  Governor Olson</td>\n",
       "    </tr>\n",
       "    <tr>\n",
       "      <th>45881</th>\n",
       "      <td>20060131</td>\n",
       "      <td>OLSON</td>\n",
       "      <td>Thank you, Mr Chairman  I support both the ¼...</td>\n",
       "    </tr>\n",
       "    <tr>\n",
       "      <th>45882</th>\n",
       "      <td>20060131</td>\n",
       "      <td>GREENSPAN</td>\n",
       "      <td>President Lacker</td>\n",
       "    </tr>\n",
       "    <tr>\n",
       "      <th>45883</th>\n",
       "      <td>20060131</td>\n",
       "      <td>LACKER</td>\n",
       "      <td>I support a ¼ point move today, Mr Chairman,...</td>\n",
       "    </tr>\n",
       "    <tr>\n",
       "      <th>45884</th>\n",
       "      <td>20060131</td>\n",
       "      <td>GREENSPAN</td>\n",
       "      <td>I gather correctly there™s been no real inte...</td>\n",
       "    </tr>\n",
       "    <tr>\n",
       "      <th>45885</th>\n",
       "      <td>20060131</td>\n",
       "      <td>DANKER</td>\n",
       "      <td>Thank you, Mr Chairman  In that the decision...</td>\n",
       "    </tr>\n",
       "    <tr>\n",
       "      <th>45886</th>\n",
       "      <td>20060131</td>\n",
       "      <td>GREENSPAN</td>\n",
       "      <td>I request the Federal Reserve Board to engag...</td>\n",
       "    </tr>\n",
       "    <tr>\n",
       "      <th>45887</th>\n",
       "      <td>20060131</td>\n",
       "      <td>GREENSPAN</td>\n",
       "      <td>The Federal Reserve Board voted unanimously ...</td>\n",
       "    </tr>\n",
       "    <tr>\n",
       "      <th>45888</th>\n",
       "      <td>20060131</td>\n",
       "      <td>REINHART</td>\n",
       "      <td>As soon as we have a new Chairman, which is ...</td>\n",
       "    </tr>\n",
       "    <tr>\n",
       "      <th>45889</th>\n",
       "      <td>20060131</td>\n",
       "      <td>GREENSPAN</td>\n",
       "      <td>The meeting is adjourned END OF MEETING</td>\n",
       "    </tr>\n",
       "  </tbody>\n",
       "</table>\n",
       "<p>45890 rows × 3 columns</p>\n",
       "</div>"
      ],
      "text/plain": [
       "           Date                                            Speaker  \\\n",
       "0      19870818  Meeting of the Federal Open Market CommitteeAu...   \n",
       "1      19870818                                            JOHNSON   \n",
       "2      19870818                                              SEGER   \n",
       "3      19870818                                            JOHNSON   \n",
       "4      19870818                                          GREENSPAN   \n",
       "5      19870818                                              SEGER   \n",
       "6      19870818                                          GREENSPAN   \n",
       "7      19870818                                              CROSS   \n",
       "8      19870818                                          GREENSPAN   \n",
       "9      19870818                                            JOHNSON   \n",
       "10     19870818                                              CROSS   \n",
       "11     19870818                                          GREENSPAN   \n",
       "12     19870818                                              CROSS   \n",
       "13     19870818                                          GREENSPAN   \n",
       "14     19870818                                              CROSS   \n",
       "15     19870818                                              PARRY   \n",
       "16     19870818                                              CROSS   \n",
       "17     19870818                                              PARRY   \n",
       "18     19870818                                              CROSS   \n",
       "19     19870818                                              PARRY   \n",
       "20     19870818                                              CROSS   \n",
       "21     19870818                                              PARRY   \n",
       "22     19870818                                          GREENSPAN   \n",
       "23     19870818                                           CORRIGAN   \n",
       "24     19870818                                          GREENSPAN   \n",
       "25     19870818                                         STERNLIGHT   \n",
       "26     19870818                                            JOHNSON   \n",
       "27     19870818                                          GREENSPAN   \n",
       "28     19870818                                          FORRESTAL   \n",
       "29     19870818                                         STERNLIGHT   \n",
       "...         ...                                                ...   \n",
       "45860  20060131                                          GREENSPAN   \n",
       "45861  20060131                                           FERGUSON   \n",
       "45862  20060131                                          GREENSPAN   \n",
       "45863  20060131                                             HOENIG   \n",
       "45864  20060131                                          GREENSPAN   \n",
       "45865  20060131                                              STERN   \n",
       "45866  20060131                                          GREENSPAN   \n",
       "45867  20060131                                            MINEHAN   \n",
       "45868  20060131                                           REINHART   \n",
       "45869  20060131                                            MINEHAN   \n",
       "45870  20060131                                          GREENSPAN   \n",
       "45871  20060131                                           PIANALTO   \n",
       "45872  20060131                                          GREENSPAN   \n",
       "45873  20060131                                              GUYNN   \n",
       "45874  20060131                                          GREENSPAN   \n",
       "45875  20060131                                             YELLEN   \n",
       "45876  20060131                                          GREENSPAN   \n",
       "45877  20060131                                               BIES   \n",
       "45878  20060131                                          GREENSPAN   \n",
       "45879  20060131                                             MOSKOW   \n",
       "45880  20060131                                          GREENSPAN   \n",
       "45881  20060131                                              OLSON   \n",
       "45882  20060131                                          GREENSPAN   \n",
       "45883  20060131                                             LACKER   \n",
       "45884  20060131                                          GREENSPAN   \n",
       "45885  20060131                                             DANKER   \n",
       "45886  20060131                                          GREENSPAN   \n",
       "45887  20060131                                          GREENSPAN   \n",
       "45888  20060131                                           REINHART   \n",
       "45889  20060131                                          GREENSPAN   \n",
       "\n",
       "                                                 content  \n",
       "0       C, on Tuesday, August 18, 1987, at 9:00 amPRE...  \n",
       "1       In the absence of the Vice Chairman of theFOM...  \n",
       "2                                 And I'd like to second  \n",
       "3        Are there any objections? [Laughter] MrChairman  \n",
       "4       That was a longer pause than I expected[Laugh...  \n",
       "5                                         I'll move that  \n",
       "6       If there are no objections, then theyare appr...  \n",
       "7                              [Statement--see Appendix]  \n",
       "8                                       Comments anyone?  \n",
       "9       I have one, Mr Chairman I was looking thismor...  \n",
       "10      It has been mentioned that oil prices havecle...  \n",
       "11      To what extent is the general apparentreducti...  \n",
       "12      Really, we don't have enough evidence, other ...  \n",
       "13                 What happened to the DM this morning?  \n",
       "14      Well, the dollar fell in terms of both the DM...  \n",
       "15                   What about in relation to sterling?  \n",
       "16      I don't have the sterling quote today Butster...  \n",
       "17      That may indicate whether or not it is relate...  \n",
       "18      Well, sterling sometimes acts like a petro-cu...  \n",
       "19                                        That's not oil  \n",
       "20      But it should not move that way if you follow...  \n",
       "21                                          That's right  \n",
       "22      Anything else? May I have a motion toratify M...  \n",
       "23                                               So move  \n",
       "24      Without objection, they're approvedMr Sternli...  \n",
       "25       Thank you, Mr Chairman [Statement--seeAppendix]  \n",
       "26      Mr Chairman, I'd like to second thatrecommend...  \n",
       "27      Why don't we hold that until we getthrough th...  \n",
       "28      Peter, in light of the increase in Japanesein...  \n",
       "29      At times, there certainly did seem to be anab...  \n",
       "...                                                  ...  \n",
       "45860                                 Governor Ferguson   \n",
       "45861    Thank you, Mr Chairman  I support your recom...  \n",
       "45862                                  President Hoenig   \n",
       "45863    Yes, Mr Chairman, I agree with your proposal...  \n",
       "45864                                   President Stern   \n",
       "45865    Thank you, Mr Chairman  I find myself in agr...  \n",
       "45866                                 President Minehan   \n",
       "45867    Thank you, Mr Chairman  I, too, am comfortab...  \n",
       "45868    The reason for MondayŒTuesday was that you p...  \n",
       "45869                                   Okay  Thank you   \n",
       "45870                                President Pianalto   \n",
       "45871    Thank you, Mr Chairman  I, too, support your...  \n",
       "45872                                   President Guynn   \n",
       "45873    Mr Chairman, I support your recommendation  ...  \n",
       "45874                                  President Yellen   \n",
       "45875    Thank you, Mr Chairman  And I also support f...  \n",
       "45876                                     Governor Bies   \n",
       "45877    Thank you, Mr Chairman  I support both the 2...  \n",
       "45878                                  President Moskow   \n",
       "45879    Mr Chairman, during your tenure the FOMC has...  \n",
       "45880                         Thank you  Governor Olson   \n",
       "45881    Thank you, Mr Chairman  I support both the ¼...  \n",
       "45882                                  President Lacker   \n",
       "45883    I support a ¼ point move today, Mr Chairman,...  \n",
       "45884    I gather correctly there™s been no real inte...  \n",
       "45885    Thank you, Mr Chairman  In that the decision...  \n",
       "45886    I request the Federal Reserve Board to engag...  \n",
       "45887    The Federal Reserve Board voted unanimously ...  \n",
       "45888    As soon as we have a new Chairman, which is ...  \n",
       "45889           The meeting is adjourned END OF MEETING   \n",
       "\n",
       "[45890 rows x 3 columns]"
      ]
     },
     "execution_count": 63,
     "metadata": {},
     "output_type": "execute_result"
    }
   ],
   "source": [
    "parsed_text"
   ]
  },
  {
   "cell_type": "markdown",
   "metadata": {},
   "source": [
    "We will focus only on Greenspan's interjections."
   ]
  },
  {
   "cell_type": "code",
   "execution_count": 64,
   "metadata": {
    "ExecuteTime": {
     "end_time": "2019-02-08T14:09:03.280864Z",
     "start_time": "2019-02-08T14:09:03.270551Z"
    }
   },
   "outputs": [],
   "source": [
    "Greenspan_text = parsed_text.loc[parsed_text['Speaker'] == 'GREENSPAN']"
   ]
  },
  {
   "cell_type": "code",
   "execution_count": 65,
   "metadata": {
    "ExecuteTime": {
     "end_time": "2019-02-08T14:09:04.241323Z",
     "start_time": "2019-02-08T14:09:04.230875Z"
    }
   },
   "outputs": [],
   "source": [
    "Greenspan_text.index = range(sum(parsed_text['Speaker'] == 'GREENSPAN'))"
   ]
  },
  {
   "cell_type": "code",
   "execution_count": 66,
   "metadata": {
    "ExecuteTime": {
     "end_time": "2019-02-08T14:09:05.444011Z",
     "start_time": "2019-02-08T14:09:05.424177Z"
    }
   },
   "outputs": [
    {
     "data": {
      "text/html": [
       "<div>\n",
       "<style scoped>\n",
       "    .dataframe tbody tr th:only-of-type {\n",
       "        vertical-align: middle;\n",
       "    }\n",
       "\n",
       "    .dataframe tbody tr th {\n",
       "        vertical-align: top;\n",
       "    }\n",
       "\n",
       "    .dataframe thead th {\n",
       "        text-align: right;\n",
       "    }\n",
       "</style>\n",
       "<table border=\"1\" class=\"dataframe\">\n",
       "  <thead>\n",
       "    <tr style=\"text-align: right;\">\n",
       "      <th></th>\n",
       "      <th>Date</th>\n",
       "      <th>Speaker</th>\n",
       "      <th>content</th>\n",
       "    </tr>\n",
       "  </thead>\n",
       "  <tbody>\n",
       "    <tr>\n",
       "      <th>0</th>\n",
       "      <td>19870818</td>\n",
       "      <td>GREENSPAN</td>\n",
       "      <td>That was a longer pause than I expected[Laugh...</td>\n",
       "    </tr>\n",
       "    <tr>\n",
       "      <th>1</th>\n",
       "      <td>19870818</td>\n",
       "      <td>GREENSPAN</td>\n",
       "      <td>If there are no objections, then theyare appr...</td>\n",
       "    </tr>\n",
       "    <tr>\n",
       "      <th>2</th>\n",
       "      <td>19870818</td>\n",
       "      <td>GREENSPAN</td>\n",
       "      <td>Comments anyone?</td>\n",
       "    </tr>\n",
       "    <tr>\n",
       "      <th>3</th>\n",
       "      <td>19870818</td>\n",
       "      <td>GREENSPAN</td>\n",
       "      <td>To what extent is the general apparentreducti...</td>\n",
       "    </tr>\n",
       "    <tr>\n",
       "      <th>4</th>\n",
       "      <td>19870818</td>\n",
       "      <td>GREENSPAN</td>\n",
       "      <td>What happened to the DM this morning?</td>\n",
       "    </tr>\n",
       "    <tr>\n",
       "      <th>5</th>\n",
       "      <td>19870818</td>\n",
       "      <td>GREENSPAN</td>\n",
       "      <td>Anything else? May I have a motion toratify M...</td>\n",
       "    </tr>\n",
       "    <tr>\n",
       "      <th>6</th>\n",
       "      <td>19870818</td>\n",
       "      <td>GREENSPAN</td>\n",
       "      <td>Without objection, they're approvedMr Sternli...</td>\n",
       "    </tr>\n",
       "    <tr>\n",
       "      <th>7</th>\n",
       "      <td>19870818</td>\n",
       "      <td>GREENSPAN</td>\n",
       "      <td>Why don't we hold that until we getthrough th...</td>\n",
       "    </tr>\n",
       "    <tr>\n",
       "      <th>8</th>\n",
       "      <td>19870818</td>\n",
       "      <td>GREENSPAN</td>\n",
       "      <td>Further comments?</td>\n",
       "    </tr>\n",
       "    <tr>\n",
       "      <th>9</th>\n",
       "      <td>19870818</td>\n",
       "      <td>GREENSPAN</td>\n",
       "      <td>Anything else? I need ratification oftwo item...</td>\n",
       "    </tr>\n",
       "    <tr>\n",
       "      <th>10</th>\n",
       "      <td>19870818</td>\n",
       "      <td>GREENSPAN</td>\n",
       "      <td>Any objections? Secondly, we needanother moti...</td>\n",
       "    </tr>\n",
       "    <tr>\n",
       "      <th>11</th>\n",
       "      <td>19870818</td>\n",
       "      <td>GREENSPAN</td>\n",
       "      <td>Governor Angell is raising the rightquestion ...</td>\n",
       "    </tr>\n",
       "    <tr>\n",
       "      <th>12</th>\n",
       "      <td>19870818</td>\n",
       "      <td>GREENSPAN</td>\n",
       "      <td>Give us a number which you sleep wellwith</td>\n",
       "    </tr>\n",
       "    <tr>\n",
       "      <th>13</th>\n",
       "      <td>19870818</td>\n",
       "      <td>GREENSPAN</td>\n",
       "      <td>This is a technical problem which doesnot con...</td>\n",
       "    </tr>\n",
       "    <tr>\n",
       "      <th>14</th>\n",
       "      <td>19870818</td>\n",
       "      <td>GREENSPAN</td>\n",
       "      <td>We have to formally change the motionWas it J...</td>\n",
       "    </tr>\n",
       "    <tr>\n",
       "      <th>15</th>\n",
       "      <td>19870818</td>\n",
       "      <td>GREENSPAN</td>\n",
       "      <td>I assume it is approved Thank youMr Prell</td>\n",
       "    </tr>\n",
       "    <tr>\n",
       "      <th>16</th>\n",
       "      <td>19870818</td>\n",
       "      <td>GREENSPAN</td>\n",
       "      <td>Governor Seger</td>\n",
       "    </tr>\n",
       "    <tr>\n",
       "      <th>17</th>\n",
       "      <td>19870818</td>\n",
       "      <td>GREENSPAN</td>\n",
       "      <td>I think that the Saudis are a self-correcting...</td>\n",
       "    </tr>\n",
       "    <tr>\n",
       "      <th>18</th>\n",
       "      <td>19870818</td>\n",
       "      <td>GREENSPAN</td>\n",
       "      <td>President Guffey</td>\n",
       "    </tr>\n",
       "    <tr>\n",
       "      <th>19</th>\n",
       "      <td>19870818</td>\n",
       "      <td>GREENSPAN</td>\n",
       "      <td>President Stern</td>\n",
       "    </tr>\n",
       "    <tr>\n",
       "      <th>20</th>\n",
       "      <td>19870818</td>\n",
       "      <td>GREENSPAN</td>\n",
       "      <td>President Melzer</td>\n",
       "    </tr>\n",
       "    <tr>\n",
       "      <th>21</th>\n",
       "      <td>19870818</td>\n",
       "      <td>GREENSPAN</td>\n",
       "      <td>Governor Heller-10-8/18/87</td>\n",
       "    </tr>\n",
       "    <tr>\n",
       "      <th>22</th>\n",
       "      <td>19870818</td>\n",
       "      <td>GREENSPAN</td>\n",
       "      <td>President Black</td>\n",
       "    </tr>\n",
       "    <tr>\n",
       "      <th>23</th>\n",
       "      <td>19870818</td>\n",
       "      <td>GREENSPAN</td>\n",
       "      <td>Mr Forrestal-11-8/18/87</td>\n",
       "    </tr>\n",
       "    <tr>\n",
       "      <th>24</th>\n",
       "      <td>19870818</td>\n",
       "      <td>GREENSPAN</td>\n",
       "      <td>President Keehn-12-8/18/87</td>\n",
       "    </tr>\n",
       "    <tr>\n",
       "      <th>25</th>\n",
       "      <td>19870818</td>\n",
       "      <td>GREENSPAN</td>\n",
       "      <td>President Parry</td>\n",
       "    </tr>\n",
       "    <tr>\n",
       "      <th>26</th>\n",
       "      <td>19870818</td>\n",
       "      <td>GREENSPAN</td>\n",
       "      <td>President Boykin</td>\n",
       "    </tr>\n",
       "    <tr>\n",
       "      <th>27</th>\n",
       "      <td>19870818</td>\n",
       "      <td>GREENSPAN</td>\n",
       "      <td>Governor Johnson</td>\n",
       "    </tr>\n",
       "    <tr>\n",
       "      <th>28</th>\n",
       "      <td>19870818</td>\n",
       "      <td>GREENSPAN</td>\n",
       "      <td>Governor Angell</td>\n",
       "    </tr>\n",
       "    <tr>\n",
       "      <th>29</th>\n",
       "      <td>19870818</td>\n",
       "      <td>GREENSPAN</td>\n",
       "      <td>President Stern</td>\n",
       "    </tr>\n",
       "    <tr>\n",
       "      <th>...</th>\n",
       "      <td>...</td>\n",
       "      <td>...</td>\n",
       "      <td>...</td>\n",
       "    </tr>\n",
       "    <tr>\n",
       "      <th>15897</th>\n",
       "      <td>20060131</td>\n",
       "      <td>GREENSPAN</td>\n",
       "      <td>I am most appreciative  [Laughter]</td>\n",
       "    </tr>\n",
       "    <tr>\n",
       "      <th>15898</th>\n",
       "      <td>20060131</td>\n",
       "      <td>GREENSPAN</td>\n",
       "      <td>Governor Olson</td>\n",
       "    </tr>\n",
       "    <tr>\n",
       "      <th>15899</th>\n",
       "      <td>20060131</td>\n",
       "      <td>GREENSPAN</td>\n",
       "      <td>Thank you very much, Governor  Governor Ferg...</td>\n",
       "    </tr>\n",
       "    <tr>\n",
       "      <th>15900</th>\n",
       "      <td>20060131</td>\n",
       "      <td>GREENSPAN</td>\n",
       "      <td>Thank you  Governor Kohn</td>\n",
       "    </tr>\n",
       "    <tr>\n",
       "      <th>15901</th>\n",
       "      <td>20060131</td>\n",
       "      <td>GREENSPAN</td>\n",
       "      <td>Governor Bies</td>\n",
       "    </tr>\n",
       "    <tr>\n",
       "      <th>15902</th>\n",
       "      <td>20060131</td>\n",
       "      <td>GREENSPAN</td>\n",
       "      <td>Thank you so much  Vincent</td>\n",
       "    </tr>\n",
       "    <tr>\n",
       "      <th>15903</th>\n",
       "      <td>20060131</td>\n",
       "      <td>GREENSPAN</td>\n",
       "      <td>Questions for Vincent?</td>\n",
       "    </tr>\n",
       "    <tr>\n",
       "      <th>15904</th>\n",
       "      <td>20060131</td>\n",
       "      <td>GREENSPAN</td>\n",
       "      <td>Anybody else?  Do we have copies of the stat...</td>\n",
       "    </tr>\n",
       "    <tr>\n",
       "      <th>15905</th>\n",
       "      <td>20060131</td>\n",
       "      <td>GREENSPAN</td>\n",
       "      <td>I™m sorry  I™m trying to cut the discussion ...</td>\n",
       "    </tr>\n",
       "    <tr>\n",
       "      <th>15906</th>\n",
       "      <td>20060131</td>\n",
       "      <td>GREENSPAN</td>\n",
       "      <td>No, but I™m looking at the clock</td>\n",
       "    </tr>\n",
       "    <tr>\n",
       "      <th>15907</th>\n",
       "      <td>20060131</td>\n",
       "      <td>GREENSPAN</td>\n",
       "      <td>Actually I thought it was elegantly done  [L...</td>\n",
       "    </tr>\n",
       "    <tr>\n",
       "      <th>15908</th>\n",
       "      <td>20060131</td>\n",
       "      <td>GREENSPAN</td>\n",
       "      <td>Governor Kohn</td>\n",
       "    </tr>\n",
       "    <tr>\n",
       "      <th>15909</th>\n",
       "      <td>20060131</td>\n",
       "      <td>GREENSPAN</td>\n",
       "      <td>President Santomero</td>\n",
       "    </tr>\n",
       "    <tr>\n",
       "      <th>15910</th>\n",
       "      <td>20060131</td>\n",
       "      <td>GREENSPAN</td>\n",
       "      <td>President Poole</td>\n",
       "    </tr>\n",
       "    <tr>\n",
       "      <th>15911</th>\n",
       "      <td>20060131</td>\n",
       "      <td>GREENSPAN</td>\n",
       "      <td>President Fisher</td>\n",
       "    </tr>\n",
       "    <tr>\n",
       "      <th>15912</th>\n",
       "      <td>20060131</td>\n",
       "      <td>GREENSPAN</td>\n",
       "      <td>Governor Ferguson</td>\n",
       "    </tr>\n",
       "    <tr>\n",
       "      <th>15913</th>\n",
       "      <td>20060131</td>\n",
       "      <td>GREENSPAN</td>\n",
       "      <td>President Hoenig</td>\n",
       "    </tr>\n",
       "    <tr>\n",
       "      <th>15914</th>\n",
       "      <td>20060131</td>\n",
       "      <td>GREENSPAN</td>\n",
       "      <td>President Stern</td>\n",
       "    </tr>\n",
       "    <tr>\n",
       "      <th>15915</th>\n",
       "      <td>20060131</td>\n",
       "      <td>GREENSPAN</td>\n",
       "      <td>President Minehan</td>\n",
       "    </tr>\n",
       "    <tr>\n",
       "      <th>15916</th>\n",
       "      <td>20060131</td>\n",
       "      <td>GREENSPAN</td>\n",
       "      <td>President Pianalto</td>\n",
       "    </tr>\n",
       "    <tr>\n",
       "      <th>15917</th>\n",
       "      <td>20060131</td>\n",
       "      <td>GREENSPAN</td>\n",
       "      <td>President Guynn</td>\n",
       "    </tr>\n",
       "    <tr>\n",
       "      <th>15918</th>\n",
       "      <td>20060131</td>\n",
       "      <td>GREENSPAN</td>\n",
       "      <td>President Yellen</td>\n",
       "    </tr>\n",
       "    <tr>\n",
       "      <th>15919</th>\n",
       "      <td>20060131</td>\n",
       "      <td>GREENSPAN</td>\n",
       "      <td>Governor Bies</td>\n",
       "    </tr>\n",
       "    <tr>\n",
       "      <th>15920</th>\n",
       "      <td>20060131</td>\n",
       "      <td>GREENSPAN</td>\n",
       "      <td>President Moskow</td>\n",
       "    </tr>\n",
       "    <tr>\n",
       "      <th>15921</th>\n",
       "      <td>20060131</td>\n",
       "      <td>GREENSPAN</td>\n",
       "      <td>Thank you  Governor Olson</td>\n",
       "    </tr>\n",
       "    <tr>\n",
       "      <th>15922</th>\n",
       "      <td>20060131</td>\n",
       "      <td>GREENSPAN</td>\n",
       "      <td>President Lacker</td>\n",
       "    </tr>\n",
       "    <tr>\n",
       "      <th>15923</th>\n",
       "      <td>20060131</td>\n",
       "      <td>GREENSPAN</td>\n",
       "      <td>I gather correctly there™s been no real inte...</td>\n",
       "    </tr>\n",
       "    <tr>\n",
       "      <th>15924</th>\n",
       "      <td>20060131</td>\n",
       "      <td>GREENSPAN</td>\n",
       "      <td>I request the Federal Reserve Board to engag...</td>\n",
       "    </tr>\n",
       "    <tr>\n",
       "      <th>15925</th>\n",
       "      <td>20060131</td>\n",
       "      <td>GREENSPAN</td>\n",
       "      <td>The Federal Reserve Board voted unanimously ...</td>\n",
       "    </tr>\n",
       "    <tr>\n",
       "      <th>15926</th>\n",
       "      <td>20060131</td>\n",
       "      <td>GREENSPAN</td>\n",
       "      <td>The meeting is adjourned END OF MEETING</td>\n",
       "    </tr>\n",
       "  </tbody>\n",
       "</table>\n",
       "<p>15927 rows × 3 columns</p>\n",
       "</div>"
      ],
      "text/plain": [
       "           Date    Speaker                                            content\n",
       "0      19870818  GREENSPAN   That was a longer pause than I expected[Laugh...\n",
       "1      19870818  GREENSPAN   If there are no objections, then theyare appr...\n",
       "2      19870818  GREENSPAN                                   Comments anyone?\n",
       "3      19870818  GREENSPAN   To what extent is the general apparentreducti...\n",
       "4      19870818  GREENSPAN              What happened to the DM this morning?\n",
       "5      19870818  GREENSPAN   Anything else? May I have a motion toratify M...\n",
       "6      19870818  GREENSPAN   Without objection, they're approvedMr Sternli...\n",
       "7      19870818  GREENSPAN   Why don't we hold that until we getthrough th...\n",
       "8      19870818  GREENSPAN                                  Further comments?\n",
       "9      19870818  GREENSPAN   Anything else? I need ratification oftwo item...\n",
       "10     19870818  GREENSPAN   Any objections? Secondly, we needanother moti...\n",
       "11     19870818  GREENSPAN   Governor Angell is raising the rightquestion ...\n",
       "12     19870818  GREENSPAN          Give us a number which you sleep wellwith\n",
       "13     19870818  GREENSPAN   This is a technical problem which doesnot con...\n",
       "14     19870818  GREENSPAN   We have to formally change the motionWas it J...\n",
       "15     19870818  GREENSPAN          I assume it is approved Thank youMr Prell\n",
       "16     19870818  GREENSPAN                                     Governor Seger\n",
       "17     19870818  GREENSPAN   I think that the Saudis are a self-correcting...\n",
       "18     19870818  GREENSPAN                                   President Guffey\n",
       "19     19870818  GREENSPAN                                    President Stern\n",
       "20     19870818  GREENSPAN                                   President Melzer\n",
       "21     19870818  GREENSPAN                         Governor Heller-10-8/18/87\n",
       "22     19870818  GREENSPAN                                    President Black\n",
       "23     19870818  GREENSPAN                            Mr Forrestal-11-8/18/87\n",
       "24     19870818  GREENSPAN                         President Keehn-12-8/18/87\n",
       "25     19870818  GREENSPAN                                    President Parry\n",
       "26     19870818  GREENSPAN                                   President Boykin\n",
       "27     19870818  GREENSPAN                                   Governor Johnson\n",
       "28     19870818  GREENSPAN                                    Governor Angell\n",
       "29     19870818  GREENSPAN                                    President Stern\n",
       "...         ...        ...                                                ...\n",
       "15897  20060131  GREENSPAN                I am most appreciative  [Laughter] \n",
       "15898  20060131  GREENSPAN                                    Governor Olson \n",
       "15899  20060131  GREENSPAN    Thank you very much, Governor  Governor Ferg...\n",
       "15900  20060131  GREENSPAN                          Thank you  Governor Kohn \n",
       "15901  20060131  GREENSPAN                                     Governor Bies \n",
       "15902  20060131  GREENSPAN                        Thank you so much  Vincent \n",
       "15903  20060131  GREENSPAN                            Questions for Vincent? \n",
       "15904  20060131  GREENSPAN    Anybody else?  Do we have copies of the stat...\n",
       "15905  20060131  GREENSPAN    I™m sorry  I™m trying to cut the discussion ...\n",
       "15906  20060131  GREENSPAN                  No, but I™m looking at the clock \n",
       "15907  20060131  GREENSPAN    Actually I thought it was elegantly done  [L...\n",
       "15908  20060131  GREENSPAN                                     Governor Kohn \n",
       "15909  20060131  GREENSPAN                               President Santomero \n",
       "15910  20060131  GREENSPAN                                   President Poole \n",
       "15911  20060131  GREENSPAN                                  President Fisher \n",
       "15912  20060131  GREENSPAN                                 Governor Ferguson \n",
       "15913  20060131  GREENSPAN                                  President Hoenig \n",
       "15914  20060131  GREENSPAN                                   President Stern \n",
       "15915  20060131  GREENSPAN                                 President Minehan \n",
       "15916  20060131  GREENSPAN                                President Pianalto \n",
       "15917  20060131  GREENSPAN                                   President Guynn \n",
       "15918  20060131  GREENSPAN                                  President Yellen \n",
       "15919  20060131  GREENSPAN                                     Governor Bies \n",
       "15920  20060131  GREENSPAN                                  President Moskow \n",
       "15921  20060131  GREENSPAN                         Thank you  Governor Olson \n",
       "15922  20060131  GREENSPAN                                  President Lacker \n",
       "15923  20060131  GREENSPAN    I gather correctly there™s been no real inte...\n",
       "15924  20060131  GREENSPAN    I request the Federal Reserve Board to engag...\n",
       "15925  20060131  GREENSPAN    The Federal Reserve Board voted unanimously ...\n",
       "15926  20060131  GREENSPAN           The meeting is adjourned END OF MEETING \n",
       "\n",
       "[15927 rows x 3 columns]"
      ]
     },
     "execution_count": 66,
     "metadata": {},
     "output_type": "execute_result"
    }
   ],
   "source": [
    "Greenspan_text"
   ]
  },
  {
   "cell_type": "markdown",
   "metadata": {},
   "source": [
    "## a.3) Bag of Words"
   ]
  },
  {
   "cell_type": "code",
   "execution_count": 67,
   "metadata": {
    "ExecuteTime": {
     "end_time": "2019-02-08T14:09:28.867991Z",
     "start_time": "2019-02-08T14:09:28.863769Z"
    }
   },
   "outputs": [],
   "source": [
    "Greenspan_corpus = list(Greenspan_text['content'])"
   ]
  },
  {
   "cell_type": "code",
   "execution_count": 74,
   "metadata": {
    "ExecuteTime": {
     "end_time": "2019-02-08T18:54:03.231195Z",
     "start_time": "2019-02-08T18:54:03.215085Z"
    }
   },
   "outputs": [
    {
     "data": {
      "text/plain": [
       "15927"
      ]
     },
     "execution_count": 74,
     "metadata": {},
     "output_type": "execute_result"
    }
   ],
   "source": [
    "len(Greenspan_corpus)"
   ]
  },
  {
   "cell_type": "code",
   "execution_count": 89,
   "metadata": {
    "ExecuteTime": {
     "end_time": "2019-02-08T19:19:52.399532Z",
     "start_time": "2019-02-08T19:19:52.392993Z"
    }
   },
   "outputs": [
    {
     "data": {
      "text/plain": [
       "\" That was a longer pause than I expected[Laughter] I'd like to entertain a motion to move the minutes\""
      ]
     },
     "execution_count": 89,
     "metadata": {},
     "output_type": "execute_result"
    }
   ],
   "source": [
    "Greenspan_corpus[0]"
   ]
  },
  {
   "cell_type": "code",
   "execution_count": 90,
   "metadata": {
    "ExecuteTime": {
     "end_time": "2019-02-08T19:19:54.101629Z",
     "start_time": "2019-02-08T19:19:54.098106Z"
    }
   },
   "outputs": [],
   "source": [
    "from sklearn.feature_extraction.text import CountVectorizer"
   ]
  },
  {
   "cell_type": "code",
   "execution_count": 91,
   "metadata": {
    "ExecuteTime": {
     "end_time": "2019-02-08T19:19:54.799617Z",
     "start_time": "2019-02-08T19:19:54.796686Z"
    }
   },
   "outputs": [],
   "source": [
    "vectorizer = CountVectorizer()"
   ]
  },
  {
   "cell_type": "code",
   "execution_count": 105,
   "metadata": {
    "ExecuteTime": {
     "end_time": "2019-02-08T19:21:02.883001Z",
     "start_time": "2019-02-08T19:21:02.873354Z"
    }
   },
   "outputs": [],
   "source": [
    "term_doc_matrix = vectorizer.fit_transform(Greenspan_corpus[0:1]).todense()"
   ]
  },
  {
   "cell_type": "code",
   "execution_count": 106,
   "metadata": {
    "ExecuteTime": {
     "end_time": "2019-02-08T19:21:04.861207Z",
     "start_time": "2019-02-08T19:21:04.848008Z"
    }
   },
   "outputs": [
    {
     "data": {
      "text/plain": [
       "['entertain',\n",
       " 'expected',\n",
       " 'laughter',\n",
       " 'like',\n",
       " 'longer',\n",
       " 'minutes',\n",
       " 'motion',\n",
       " 'move',\n",
       " 'pause',\n",
       " 'than',\n",
       " 'that',\n",
       " 'the',\n",
       " 'to',\n",
       " 'was']"
      ]
     },
     "execution_count": 106,
     "metadata": {},
     "output_type": "execute_result"
    }
   ],
   "source": [
    "vectorizer.get_feature_names()"
   ]
  },
  {
   "cell_type": "code",
   "execution_count": 107,
   "metadata": {
    "ExecuteTime": {
     "end_time": "2019-02-08T19:21:06.229420Z",
     "start_time": "2019-02-08T19:21:06.224218Z"
    }
   },
   "outputs": [
    {
     "data": {
      "text/plain": [
       "matrix([[1, 1, 1, 1, 1, 1, 1, 1, 1, 1, 1, 1, 2, 1]], dtype=int64)"
      ]
     },
     "execution_count": 107,
     "metadata": {},
     "output_type": "execute_result"
    }
   ],
   "source": [
    "term_doc_matrix"
   ]
  },
  {
   "cell_type": "markdown",
   "metadata": {},
   "source": [
    "## a.4) Cloud of words"
   ]
  },
  {
   "cell_type": "markdown",
   "metadata": {},
   "source": [
    "If you got the Anaconda distribution of Python go the terminal and type\n",
    "\n",
    "conda install -c conda-forge wordcloud"
   ]
  },
  {
   "cell_type": "markdown",
   "metadata": {},
   "source": [
    "Here is a good tutorial on how to generate words of clouds:\n",
    "\n",
    "https://www.datacamp.com/community/tutorials/wordcloud-python"
   ]
  },
  {
   "cell_type": "code",
   "execution_count": 147,
   "metadata": {
    "ExecuteTime": {
     "end_time": "2019-02-08T19:33:17.758148Z",
     "start_time": "2019-02-08T19:33:17.703708Z"
    }
   },
   "outputs": [],
   "source": [
    "from wordcloud import WordCloud\n",
    "\n",
    "wordcloud = WordCloud(background_color='white', font_step = 3, stopwords='None', relative_scaling=1).generate(Greenspan_text['content'].loc[0])\n"
   ]
  },
  {
   "cell_type": "code",
   "execution_count": 148,
   "metadata": {
    "ExecuteTime": {
     "end_time": "2019-02-08T19:33:18.516044Z",
     "start_time": "2019-02-08T19:33:18.511944Z"
    }
   },
   "outputs": [
    {
     "data": {
      "text/plain": [
       "\" That was a longer pause than I expected[Laughter] I'd like to entertain a motion to move the minutes\""
      ]
     },
     "execution_count": 148,
     "metadata": {},
     "output_type": "execute_result"
    }
   ],
   "source": [
    "Greenspan_text['content'].loc[0]"
   ]
  },
  {
   "cell_type": "code",
   "execution_count": 149,
   "metadata": {
    "ExecuteTime": {
     "end_time": "2019-02-08T19:33:19.253796Z",
     "start_time": "2019-02-08T19:33:19.249374Z"
    }
   },
   "outputs": [
    {
     "data": {
      "text/plain": [
       "\" That was a longer pause than I expected[Laughter] I'd like to entertain a motion to move the minutes\""
      ]
     },
     "execution_count": 149,
     "metadata": {},
     "output_type": "execute_result"
    }
   ],
   "source": [
    "Greenspan_text.content[0]"
   ]
  },
  {
   "cell_type": "markdown",
   "metadata": {},
   "source": [
    "Display the generated image"
   ]
  },
  {
   "cell_type": "code",
   "execution_count": 150,
   "metadata": {
    "ExecuteTime": {
     "end_time": "2019-02-08T19:33:20.568205Z",
     "start_time": "2019-02-08T19:33:20.564646Z"
    }
   },
   "outputs": [],
   "source": [
    "import matplotlib.pyplot as plt"
   ]
  },
  {
   "cell_type": "code",
   "execution_count": 153,
   "metadata": {
    "ExecuteTime": {
     "end_time": "2019-02-08T19:38:33.858161Z",
     "start_time": "2019-02-08T19:38:33.740719Z"
    }
   },
   "outputs": [
    {
     "data": {
      "image/png": "[encoded data removed]",
      "text/plain": [
       "<Figure size 432x288 with 1 Axes>"
      ]
     },
     "metadata": {
      "needs_background": "light"
     },
     "output_type": "display_data"
    }
   ],
   "source": [
    "plt.imshow(wordcloud, interpolation='bilinear')\n",
    "\n",
    "plt.axis(\"off\")\n",
    "\n",
    "plt.show()"
   ]
  },
  {
   "cell_type": "markdown",
   "metadata": {},
   "source": [
    "Let's do it for the whole Greenspan interjections"
   ]
  },
  {
   "cell_type": "code",
   "execution_count": 154,
   "metadata": {
    "ExecuteTime": {
     "end_time": "2019-02-08T19:40:47.732456Z",
     "start_time": "2019-02-08T19:40:47.700632Z"
    }
   },
   "outputs": [],
   "source": [
    "text_aux = \" \".join(interjection for interjection in Greenspan_text.content)"
   ]
  },
  {
   "cell_type": "code",
   "execution_count": 157,
   "metadata": {
    "ExecuteTime": {
     "end_time": "2019-02-08T19:42:34.552573Z",
     "start_time": "2019-02-08T19:42:34.547207Z"
    }
   },
   "outputs": [
    {
     "data": {
      "text/plain": [
       "3543653"
      ]
     },
     "execution_count": 157,
     "metadata": {},
     "output_type": "execute_result"
    }
   ],
   "source": [
    "len(text_aux)"
   ]
  },
  {
   "cell_type": "code",
   "execution_count": 160,
   "metadata": {
    "ExecuteTime": {
     "end_time": "2019-02-08T19:43:14.545537Z",
     "start_time": "2019-02-08T19:43:08.778483Z"
    }
   },
   "outputs": [],
   "source": [
    "wordcloudG = WordCloud(background_color='white', font_step = 3, relative_scaling=1).generate(text_aux)"
   ]
  },
  {
   "cell_type": "code",
   "execution_count": 161,
   "metadata": {
    "ExecuteTime": {
     "end_time": "2019-02-08T19:43:15.411046Z",
     "start_time": "2019-02-08T19:43:15.225346Z"
    }
   },
   "outputs": [
    {
     "data": {
      "image/png": "[encoded data removed]",
      "text/plain": [
       "<Figure size 432x288 with 1 Axes>"
      ]
     },
     "metadata": {
      "needs_background": "light"
     },
     "output_type": "display_data"
    }
   ],
   "source": [
    "plt.imshow(wordcloudG, interpolation='bilinear')\n",
    "\n",
    "plt.axis(\"off\")\n",
    "\n",
    "plt.show()"
   ]
  },
  {
   "cell_type": "markdown",
   "metadata": {},
   "source": [
    "## a.5) LDA"
   ]
  },
  {
   "cell_type": "markdown",
   "metadata": {},
   "source": [
    "### Tokenize"
   ]
  },
  {
   "cell_type": "code",
   "execution_count": 162,
   "metadata": {
    "ExecuteTime": {
     "end_time": "2019-02-08T20:07:23.491387Z",
     "start_time": "2019-02-08T20:07:22.773375Z"
    }
   },
   "outputs": [],
   "source": [
    "import nltk"
   ]
  },
  {
   "cell_type": "code",
   "execution_count": 166,
   "metadata": {
    "ExecuteTime": {
     "end_time": "2019-02-08T20:09:26.351279Z",
     "start_time": "2019-02-08T20:09:26.347572Z"
    }
   },
   "outputs": [],
   "source": [
    "from nltk.tokenize import RegexpTokenizer\n",
    "\n",
    "tokenizer = RegexpTokenizer(r'\\w+')"
   ]
  },
  {
   "cell_type": "code",
   "execution_count": 169,
   "metadata": {
    "ExecuteTime": {
     "end_time": "2019-02-08T20:10:30.564096Z",
     "start_time": "2019-02-08T20:10:30.549114Z"
    }
   },
   "outputs": [],
   "source": [
    "tokens_example = tokenizer.tokenize(Greenspan_text['content'].loc[0])"
   ]
  },
  {
   "cell_type": "code",
   "execution_count": 170,
   "metadata": {
    "ExecuteTime": {
     "end_time": "2019-02-08T20:10:44.554929Z",
     "start_time": "2019-02-08T20:10:44.548932Z"
    }
   },
   "outputs": [
    {
     "data": {
      "text/plain": [
       "\" That was a longer pause than I expected[Laughter] I'd like to entertain a motion to move the minutes\""
      ]
     },
     "execution_count": 170,
     "metadata": {},
     "output_type": "execute_result"
    }
   ],
   "source": [
    "Greenspan_text['content'].loc[0]"
   ]
  },
  {
   "cell_type": "code",
   "execution_count": 171,
   "metadata": {
    "ExecuteTime": {
     "end_time": "2019-02-08T20:11:02.249406Z",
     "start_time": "2019-02-08T20:11:02.244350Z"
    }
   },
   "outputs": [
    {
     "data": {
      "text/plain": [
       "['That',\n",
       " 'was',\n",
       " 'a',\n",
       " 'longer',\n",
       " 'pause',\n",
       " 'than',\n",
       " 'I',\n",
       " 'expected',\n",
       " 'Laughter',\n",
       " 'I',\n",
       " 'd',\n",
       " 'like',\n",
       " 'to',\n",
       " 'entertain',\n",
       " 'a',\n",
       " 'motion',\n",
       " 'to',\n",
       " 'move',\n",
       " 'the',\n",
       " 'minutes']"
      ]
     },
     "execution_count": 171,
     "metadata": {},
     "output_type": "execute_result"
    }
   ],
   "source": [
    "tokens_example"
   ]
  },
  {
   "cell_type": "markdown",
   "metadata": {},
   "source": [
    "### Remove Stop Words"
   ]
  },
  {
   "cell_type": "code",
   "execution_count": 180,
   "metadata": {
    "ExecuteTime": {
     "end_time": "2019-02-08T20:19:32.183298Z",
     "start_time": "2019-02-08T20:19:31.790405Z"
    }
   },
   "outputs": [
    {
     "name": "stderr",
     "output_type": "stream",
     "text": [
      "[nltk_data] Downloading package stopwords to /Users/jmo11/nltk_data...\n",
      "[nltk_data]   Unzipping corpora/stopwords.zip.\n"
     ]
    }
   ],
   "source": [
    "from nltk.corpus import stopwords\n",
    "\n",
    "nltk.download('stopwords')\n",
    "\n",
    "stopwords = stopwords.words('english')"
   ]
  },
  {
   "cell_type": "code",
   "execution_count": 213,
   "metadata": {
    "ExecuteTime": {
     "end_time": "2019-02-08T22:03:56.478034Z",
     "start_time": "2019-02-08T22:03:56.464490Z"
    }
   },
   "outputs": [
    {
     "data": {
      "text/plain": [
       "179"
      ]
     },
     "execution_count": 213,
     "metadata": {},
     "output_type": "execute_result"
    }
   ],
   "source": [
    "len(stopwords)"
   ]
  },
  {
   "cell_type": "code",
   "execution_count": 181,
   "metadata": {
    "ExecuteTime": {
     "end_time": "2019-02-08T20:20:20.768741Z",
     "start_time": "2019-02-08T20:20:20.763242Z"
    }
   },
   "outputs": [],
   "source": [
    "stopped_tokens = [i for i in tokens_example if not i in stopwords]"
   ]
  },
  {
   "cell_type": "code",
   "execution_count": 182,
   "metadata": {
    "ExecuteTime": {
     "end_time": "2019-02-08T20:20:32.444237Z",
     "start_time": "2019-02-08T20:20:32.437957Z"
    }
   },
   "outputs": [
    {
     "data": {
      "text/plain": [
       "['That',\n",
       " 'longer',\n",
       " 'pause',\n",
       " 'I',\n",
       " 'expected',\n",
       " 'Laughter',\n",
       " 'I',\n",
       " 'like',\n",
       " 'entertain',\n",
       " 'motion',\n",
       " 'move',\n",
       " 'minutes']"
      ]
     },
     "execution_count": 182,
     "metadata": {},
     "output_type": "execute_result"
    }
   ],
   "source": [
    "stopped_tokens"
   ]
  },
  {
   "cell_type": "markdown",
   "metadata": {},
   "source": [
    "### Stems"
   ]
  },
  {
   "cell_type": "code",
   "execution_count": 183,
   "metadata": {
    "ExecuteTime": {
     "end_time": "2019-02-08T20:22:19.950662Z",
     "start_time": "2019-02-08T20:22:19.939433Z"
    }
   },
   "outputs": [],
   "source": [
    "from nltk.stem.porter import PorterStemmer\n",
    "\n",
    "# Create p_stemmer of class PorterStemmer\n",
    "p_stemmer = PorterStemmer()"
   ]
  },
  {
   "cell_type": "code",
   "execution_count": 214,
   "metadata": {
    "ExecuteTime": {
     "end_time": "2019-02-08T22:09:28.017400Z",
     "start_time": "2019-02-08T22:09:27.940898Z"
    }
   },
   "outputs": [],
   "source": [
    "p_stemmer.*?"
   ]
  },
  {
   "cell_type": "code",
   "execution_count": 184,
   "metadata": {
    "ExecuteTime": {
     "end_time": "2019-02-08T20:23:01.617148Z",
     "start_time": "2019-02-08T20:23:01.613181Z"
    }
   },
   "outputs": [],
   "source": [
    "texts_G = [p_stemmer.stem(i) for i in stopped_tokens]"
   ]
  },
  {
   "cell_type": "code",
   "execution_count": 185,
   "metadata": {
    "ExecuteTime": {
     "end_time": "2019-02-08T20:23:09.570810Z",
     "start_time": "2019-02-08T20:23:09.566253Z"
    }
   },
   "outputs": [
    {
     "data": {
      "text/plain": [
       "['that',\n",
       " 'longer',\n",
       " 'paus',\n",
       " 'I',\n",
       " 'expect',\n",
       " 'laughter',\n",
       " 'I',\n",
       " 'like',\n",
       " 'entertain',\n",
       " 'motion',\n",
       " 'move',\n",
       " 'minut']"
      ]
     },
     "execution_count": 185,
     "metadata": {},
     "output_type": "execute_result"
    }
   ],
   "source": [
    "texts_G"
   ]
  },
  {
   "cell_type": "markdown",
   "metadata": {
    "ExecuteTime": {
     "end_time": "2019-02-08T20:13:29.110398Z",
     "start_time": "2019-02-08T20:13:29.107342Z"
    }
   },
   "source": [
    "### Loop to Tokenize, Remove Stop Words, Stem"
   ]
  },
  {
   "cell_type": "code",
   "execution_count": 194,
   "metadata": {
    "ExecuteTime": {
     "end_time": "2019-02-08T20:28:44.751505Z",
     "start_time": "2019-02-08T20:28:44.748234Z"
    }
   },
   "outputs": [],
   "source": [
    "texts = []"
   ]
  },
  {
   "cell_type": "code",
   "execution_count": 198,
   "metadata": {
    "ExecuteTime": {
     "end_time": "2019-02-08T20:30:01.595966Z",
     "start_time": "2019-02-08T20:29:50.512580Z"
    }
   },
   "outputs": [],
   "source": [
    "for i in range(0,len(Greenspan_text['content'])):\n",
    "\n",
    "    tokens         = tokenizer.tokenize(Greenspan_text['content'].loc[i])\n",
    "    \n",
    "    stopped_tokens = [j for j in tokens if not j in stopwords]\n",
    "    \n",
    "    texts.append([p_stemmer.stem(j) for j in stopped_tokens])\n",
    "    "
   ]
  },
  {
   "cell_type": "code",
   "execution_count": 218,
   "metadata": {
    "ExecuteTime": {
     "end_time": "2019-02-08T22:13:55.036380Z",
     "start_time": "2019-02-08T22:13:55.032008Z"
    }
   },
   "outputs": [
    {
     "data": {
      "text/plain": [
       "' If there are no objections, then theyare approved Mr Cross'"
      ]
     },
     "execution_count": 218,
     "metadata": {},
     "output_type": "execute_result"
    }
   ],
   "source": [
    "Greenspan_text['content'].loc[1]"
   ]
  },
  {
   "cell_type": "code",
   "execution_count": 196,
   "metadata": {
    "ExecuteTime": {
     "end_time": "2019-02-08T20:28:49.299212Z",
     "start_time": "2019-02-08T20:28:49.293713Z"
    }
   },
   "outputs": [
    {
     "data": {
      "text/plain": [
       "[['that',\n",
       "  'longer',\n",
       "  'paus',\n",
       "  'I',\n",
       "  'expect',\n",
       "  'laughter',\n",
       "  'I',\n",
       "  'like',\n",
       "  'entertain',\n",
       "  'motion',\n",
       "  'move',\n",
       "  'minut'],\n",
       " ['If', 'object', 'theyar', 'approv', 'Mr', 'cross'],\n",
       " ['comment', 'anyon']]"
      ]
     },
     "execution_count": 196,
     "metadata": {},
     "output_type": "execute_result"
    }
   ],
   "source": [
    "texts"
   ]
  },
  {
   "cell_type": "code",
   "execution_count": 197,
   "metadata": {
    "ExecuteTime": {
     "end_time": "2019-02-08T20:29:34.888944Z",
     "start_time": "2019-02-08T20:29:34.884068Z"
    }
   },
   "outputs": [
    {
     "data": {
      "text/plain": [
       "15927"
      ]
     },
     "execution_count": 197,
     "metadata": {},
     "output_type": "execute_result"
    }
   ],
   "source": [
    "len(Greenspan_text['content'])"
   ]
  },
  {
   "cell_type": "markdown",
   "metadata": {},
   "source": [
    "### LDA"
   ]
  },
  {
   "cell_type": "markdown",
   "metadata": {},
   "source": [
    "conda install -c anaconda gensim"
   ]
  },
  {
   "cell_type": "code",
   "execution_count": 203,
   "metadata": {
    "ExecuteTime": {
     "end_time": "2019-02-08T20:41:14.609276Z",
     "start_time": "2019-02-08T20:41:13.027193Z"
    }
   },
   "outputs": [],
   "source": [
    "import gensim"
   ]
  },
  {
   "cell_type": "code",
   "execution_count": 204,
   "metadata": {
    "ExecuteTime": {
     "end_time": "2019-02-08T20:41:46.100564Z",
     "start_time": "2019-02-08T20:41:45.622140Z"
    }
   },
   "outputs": [],
   "source": [
    "from gensim import corpora, models\n",
    "\n",
    "dictionary = corpora.Dictionary(texts)"
   ]
  },
  {
   "cell_type": "code",
   "execution_count": 225,
   "metadata": {
    "ExecuteTime": {
     "end_time": "2019-02-08T22:27:57.888870Z",
     "start_time": "2019-02-08T22:27:57.858216Z"
    }
   },
   "outputs": [],
   "source": [
    "dictionary.*?"
   ]
  },
  {
   "cell_type": "code",
   "execution_count": 205,
   "metadata": {
    "ExecuteTime": {
     "end_time": "2019-02-08T20:42:12.070514Z",
     "start_time": "2019-02-08T20:42:11.740114Z"
    }
   },
   "outputs": [],
   "source": [
    "corpus = [dictionary.doc2bow(text) for text in texts]"
   ]
  },
  {
   "cell_type": "code",
   "execution_count": 228,
   "metadata": {
    "ExecuteTime": {
     "end_time": "2019-02-08T22:30:59.401463Z",
     "start_time": "2019-02-08T22:30:59.396936Z"
    }
   },
   "outputs": [
    {
     "data": {
      "text/plain": [
       "[(17, 1), (18, 1)]"
      ]
     },
     "execution_count": 228,
     "metadata": {},
     "output_type": "execute_result"
    }
   ],
   "source": [
    "corpus[2]"
   ]
  },
  {
   "cell_type": "code",
   "execution_count": 230,
   "metadata": {
    "ExecuteTime": {
     "end_time": "2019-02-08T22:50:07.621145Z",
     "start_time": "2019-02-08T22:47:49.319021Z"
    }
   },
   "outputs": [],
   "source": [
    "ldamodel = gensim.models.ldamodel.LdaModel(corpus, num_topics=2, id2word = dictionary, passes=20)"
   ]
  },
  {
   "cell_type": "code",
   "execution_count": 231,
   "metadata": {
    "ExecuteTime": {
     "end_time": "2019-02-08T22:50:09.693881Z",
     "start_time": "2019-02-08T22:50:08.728481Z"
    }
   },
   "outputs": [
    {
     "data": {
      "image/png": "[encoded data removed]",
      "text/plain": [
       "<Figure size 432x288 with 1 Axes>"
      ]
     },
     "metadata": {
      "needs_background": "light"
     },
     "output_type": "display_data"
    },
    {
     "data": {
      "image/png": "[encoded data removed]",
      "text/plain": [
       "<Figure size 432x288 with 1 Axes>"
      ]
     },
     "metadata": {
      "needs_background": "light"
     },
     "output_type": "display_data"
    }
   ],
   "source": [
    "for t in range(2):\n",
    "\n",
    "    plt.figure()\n",
    "    \n",
    "    plt.imshow(WordCloud(background_color='white').fit_words(dict(ldamodel.show_topic(t,200))),interpolation='bilinear')\n",
    "    \n",
    "    plt.axis('off')\n",
    "    \n",
    "    plt.show"
   ]
  },
  {
   "cell_type": "code",
   "execution_count": null,
   "metadata": {},
   "outputs": [],
   "source": []
  }
 ],
 "metadata": {
  "kernelspec": {
   "display_name": "Python 3",
   "language": "python",
   "name": "python3"
  },
  "language_info": {
   "codemirror_mode": {
    "name": "ipython",
    "version": 3
   },
   "file_extension": ".py",
   "mimetype": "text/x-python",
   "name": "python",
   "nbconvert_exporter": "python",
   "pygments_lexer": "ipython3",
   "version": "3.6.7"
  },
  "latex_envs": {
   "LaTeX_envs_menu_present": true,
   "autoclose": false,
   "autocomplete": true,
   "bibliofile": "biblio.bib",
   "cite_by": "apalike",
   "current_citInitial": 1,
   "eqLabelWithNumbers": true,
   "eqNumInitial": 1,
   "hotkeys": {
    "equation": "Ctrl-E",
    "itemize": "Ctrl-I"
   },
   "labels_anchors": false,
   "latex_user_defs": false,
   "report_style_numbering": false,
   "user_envs_cfg": false
  },
  "varInspector": {
   "cols": {
    "lenName": 16,
    "lenType": 16,
    "lenVar": 40
   },
   "kernels_config": {
    "python": {
     "delete_cmd_postfix": "",
     "delete_cmd_prefix": "del ",
     "library": "var_list.py",
     "varRefreshCmd": "print(var_dic_list())"
    },
    "r": {
     "delete_cmd_postfix": ") ",
     "delete_cmd_prefix": "rm(",
     "library": "var_list.r",
     "varRefreshCmd": "cat(var_dic_list()) "
    }
   },
   "position": {
    "height": "224px",
    "left": "342px",
    "right": "20px",
    "top": "101px",
    "width": "601px"
   },
   "types_to_exclude": [
    "module",
    "function",
    "builtin_function_or_method",
    "instance",
    "_Feature"
   ],
   "window_display": false
  }
 },
 "nbformat": 4,
 "nbformat_minor": 2
}
