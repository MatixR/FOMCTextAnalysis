{
 "cells": [
  {
   "cell_type": "code",
   "execution_count": 132,
   "metadata": {},
   "outputs": [],
   "source": [
    "import pandas as pd\n",
    "import os\n",
    "os.chdir(\"../../output\")"
   ]
  },
  {
   "cell_type": "code",
   "execution_count": 133,
   "metadata": {},
   "outputs": [
    {
     "name": "stdout",
     "output_type": "stream",
     "text": [
      "     Unnamed: 0        date  ffrtarget  target_before  target_after  decision  \\\n",
      "136         136  2004-12-14       2.25            2.0          2.25      0.25   \n",
      "\n",
      "     alt_a_rate  alt_b_rate  alt_c_rate  alt_d_rate  alt_e_rate  \\\n",
      "136         2.0        2.25        2.25         NaN         NaN   \n",
      "\n",
      "    bluebook_treatment_size_alt_a bluebook_treatment_size_alt_b  \\\n",
      "136                             0                          0.25   \n",
      "\n",
      "    bluebook_treatment_size_alt_c  bluebook_treatment_size_alt_d  \\\n",
      "136                          0.25                            NaN   \n",
      "\n",
      "     bluebook_treatment_size_alt_e  \n",
      "136                            NaN  \n"
     ]
    }
   ],
   "source": [
    "df = pd.read_csv(\"../output/fed_targets_with_alternatives.csv\")\n",
    "print(df[df.date==\"2004-12-14\"])"
   ]
  },
  {
   "cell_type": "code",
   "execution_count": null,
   "metadata": {},
   "outputs": [],
   "source": [
    "os.chdir(\"../data/alternatives_corpora\")"
   ]
  },
  {
   "cell_type": "code",
   "execution_count": 134,
   "metadata": {},
   "outputs": [],
   "source": [
    "\n",
    "counter = 0\n",
    "for filename in os.listdir():\n",
    "    if \"2004-12-14\" not in filename:\n",
    "        continue\n",
    "    counter+=1\n",
    "    if \".txt\" not in filename:\n",
    "        continue\n",
    "    with open(filename) as f:\n",
    "        lines = f.readlines()\n",
    "        output_lines = []\n",
    "        for line in lines:\n",
    "            if line.strip():\n",
    "                alt = line.split()[0]\n",
    "                '''\n",
    "                print(alt)\n",
    "                print(df.loc[df[\"date\"]==filename.split(\".\")[0]])\n",
    " |               '''\n",
    "                query = df[df.date==filename.split(\".\")[0]]\n",
    "                \n",
    "                if len(query)==0:\n",
    "                    break\n",
    "                    \n",
    "                change = str(query[\"bluebook_treatment_size_alt_b\"].item())\n",
    "                new_line = change+\" \" + \" \".join(line.strip().split()[1:])\n",
    "                output_lines.append(new_line)\n",
    "        with open(f'../../output/change_labeled_alternatives_corpora/{filename}','w+') as f:\n",
    "            for line in output_lines:\n",
    "                f.write(line)\n",
    "                f.write(\"\\n\")\n",
    "        if(counter==20):\n",
    "            break"
   ]
  },
  {
   "cell_type": "code",
   "execution_count": null,
   "metadata": {},
   "outputs": [],
   "source": []
  },
  {
   "cell_type": "code",
   "execution_count": null,
   "metadata": {},
   "outputs": [],
   "source": []
  },
  {
   "cell_type": "code",
   "execution_count": null,
   "metadata": {},
   "outputs": [],
   "source": []
  }
 ],
 "metadata": {
  "kernelspec": {
   "display_name": "Python 3",
   "language": "python",
   "name": "python3"
  },
  "language_info": {
   "codemirror_mode": {
    "name": "ipython",
    "version": 3
   },
   "file_extension": ".py",
   "mimetype": "text/x-python",
   "name": "python",
   "nbconvert_exporter": "python",
   "pygments_lexer": "ipython3",
   "version": "3.6.7"
  }
 },
 "nbformat": 4,
 "nbformat_minor": 2
}
