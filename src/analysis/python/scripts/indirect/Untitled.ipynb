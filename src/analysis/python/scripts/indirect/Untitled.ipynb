{
 "cells": [
  {
   "cell_type": "code",
   "execution_count": 19,
   "metadata": {},
   "outputs": [],
   "source": [
    "import pandas as pd\n",
    "import os\n",
    "import re\n",
    "\n",
    "base_directory = base_directory = \"../../../../collection/python/data/transcript_raw_text\"\n",
    "raw_doc = os.listdir(base_directory)\n",
    "filelist = sorted(raw_doc)"
   ]
  },
  {
   "cell_type": "code",
   "execution_count": 20,
   "metadata": {},
   "outputs": [],
   "source": [
    "documents = []\n",
    "\n",
    "for doc_path in filelist:\n",
    "    with open(\"{}/{}\".format(base_directory,doc_path),'r') as f:\n",
    "        documents.append(f.read())"
   ]
  },
  {
   "cell_type": "code",
   "execution_count": 21,
   "metadata": {},
   "outputs": [],
   "source": [
    "date = pd.Series(data=filelist).apply(lambda x: x[0:10])"
   ]
  },
  {
   "cell_type": "code",
   "execution_count": null,
   "metadata": {},
   "outputs": [],
   "source": [
    "parsed_text = pd.DataFrame()\n",
    "for i in range(len(documents)):\n",
    "    interjections    = re.split('MR. |MS. |CHAIRMAN |VICE CHAIRMAN ', documents[i]) \n",
    "                #Split the doc by interjections\n",
    "\n",
    "    temp_df          = pd.DataFrame(columns=['Date','Speaker','content'],index=range(len(interjections)))          \n",
    "                #Temporary data frame\n",
    "\n",
    "    for j in range(len(interjections)):\n",
    "        interjection           = interjections[j].replace('\\n',' ') \n",
    "                                #Replace page break (\\n) with space\n",
    "\n",
    "        temp_df['Date'].loc[j]    = date[i]\n",
    "\n",
    "        temp_df['Speaker'].loc[j] = interjection.split('.')[0]\n",
    "\n",
    "        temp_df['content'].loc[j] = ''.join(interjection.split('.')[1:])\n",
    "\n",
    "    parsed_text = pd.concat([parsed_text,temp_df],ignore_index=True)\n",
    "print(len(parsed_text))"
   ]
  },
  {
   "cell_type": "code",
   "execution_count": null,
   "metadata": {},
   "outputs": [],
   "source": []
  }
 ],
 "metadata": {
  "kernelspec": {
   "display_name": "Python 3",
   "language": "python",
   "name": "python3"
  },
  "language_info": {
   "codemirror_mode": {
    "name": "ipython",
    "version": 3
   },
   "file_extension": ".py",
   "mimetype": "text/x-python",
   "name": "python",
   "nbconvert_exporter": "python",
   "pygments_lexer": "ipython3",
   "version": "3.6.7"
  }
 },
 "nbformat": 4,
 "nbformat_minor": 2
}
